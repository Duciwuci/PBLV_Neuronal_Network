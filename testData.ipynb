{
 "cells": [
  {
   "cell_type": "code",
<<<<<<< HEAD
   "execution_count": 162,
=======
   "execution_count": 32,
>>>>>>> a5b54efb5f2975109f434c426f538dbd446e8516
   "metadata": {},
   "outputs": [],
   "source": [
    "#imports\n",
    "import testdata.TestDataGenerator as tdg\n",
    "import tensorflow as tf\n",
    "from tensorflow import keras\n",
<<<<<<< HEAD
=======
    "import testdata.TestDataGenerator as generator\n",
    "from tensorflow.keras.models import Model\n",
    "from tensorflow.keras.layers import Dense, Input\n",
    "from tensorflow.keras.utils import plot_model\n",
>>>>>>> a5b54efb5f2975109f434c426f538dbd446e8516
    "import random\n",
    "import numpy"
   ]
  },
  {
   "cell_type": "code",
<<<<<<< HEAD
   "execution_count": 163,
   "metadata": {
    "collapsed": true
   },
   "outputs": [],
   "source": [
    "#definitions\n",
    "\n",
    "DIMENSIONS=2\n",
    "SENSORS= 4\n",
    "\n",
    "COORDINATE_SYSTEM = 1\n",
    "\n",
    "INPUT_NODES = SENSORS\n",
    "HIDDEN_NODES = [64,64]\n",
    "OUTPUT_NODES = DIMENSIONS\n",
    "\n"
=======
   "execution_count": 33,
   "metadata": {},
   "outputs": [],
   "source": [
    "distances, datapoints, sensors = generator.generateIO(60000, 4, 2, 50)"
>>>>>>> a5b54efb5f2975109f434c426f538dbd446e8516
   ]
  },
  {
   "cell_type": "code",
<<<<<<< HEAD
   "execution_count": 164,
   "metadata": {},
   "outputs": [],
   "source": [
    "#Generate train data\n",
    "\n",
    "#print(input_data)\n",
    "#print(xOutput_data)\n",
    "distances, datapoints, sensors = tdg.generateStatic4PointIO(100000,2,COORDINATE_SYSTEM)\n",
    "\n",
    "#print(datapoints)\n",
    "\n",
    "xOut_Train = []\n",
    "yOut_Train = []\n",
    "for i in range(len(datapoints)):\n",
    "    xOut_Train.append(numpy.array(datapoints[i][0]))\n",
    "    yOut_Train.append(numpy.array(datapoints[i][1]))\n",
    "\n",
    "#print(xOut)"
=======
   "execution_count": 34,
   "metadata": {},
   "outputs": [],
   "source": [
    "xcoords = []\n",
    "ycoords = []\n",
    "for i in range(60000):\n",
    "    xcoords.append(datapoints[i][0])\n",
    "    ycoords.append(datapoints[i][1])\n",
    "\n",
    "xcoords = numpy.array(xcoords)\n",
    "ycoords = numpy.array(ycoords)\n",
    "datapoints = numpy.array(datapoints)\n",
    "distances = numpy.array(distances)"
>>>>>>> a5b54efb5f2975109f434c426f538dbd446e8516
   ]
  },
  {
   "cell_type": "code",
<<<<<<< HEAD
   "execution_count": 165,
=======
   "execution_count": 35,
>>>>>>> a5b54efb5f2975109f434c426f538dbd446e8516
   "metadata": {},
   "outputs": [],
   "source": [
    "#Generate Model\n",
    "\n",
<<<<<<< HEAD
    "inp = keras.layers.Input((INPUT_NODES,))\n",
=======
    "inp = Input((4,))\n",
>>>>>>> a5b54efb5f2975109f434c426f538dbd446e8516
    "\n",
    "#model = keras.Sequential()\n",
    "#model.add(Dense(INPUT_NODES))\n",
    "x = keras.layers.Dense(64, activation='relu')(inp)\n",
    "x = keras.layers.Dense(64, activation='relu')(x)\n",
    "x = keras.layers.Dense(64, activation='relu')(x)\n",
    "x = keras.layers.Dense(64, activation='relu')(x)\n",
    "#for nodes in HIDDEN_NODES:\n",
    "    #x = Dense(nodes, activation='relu')(x)\n",
    "    #model.add(Dense(nodes,activation=tf.nn.relu))\n",
    "xOut = keras.layers.Dense(1, activation='sigmoid', name='xOut')(x)\n",
    "yOut = keras.layers.Dense(1, activation='sigmoid', name='yOut')(x)\n",
    "model = keras.models.Model(inputs=inp, outputs=[xOut, yOut])\n",
    "#model.add(Dense(OUTPUT_NODES))\n",
    "model.compile(optimizer='adam', loss='mean_squared_error', metrics=['accuracy'])\n"
   ]
  },
  {
   "cell_type": "code",
<<<<<<< HEAD
   "execution_count": 166,
=======
   "execution_count": 36,
>>>>>>> a5b54efb5f2975109f434c426f538dbd446e8516
   "metadata": {
    "scrolled": true
   },
   "outputs": [
    {
     "name": "stdout",
     "output_type": "stream",
     "text": [
<<<<<<< HEAD
      "Epoch 1/3\n",
      "100000/100000 [==============================] - 5s 47us/step - loss: 0.0019 - xOut_loss: 9.8215e-04 - yOut_loss: 8.9517e-04 - xOut_acc: 0.0000e+00 - yOut_acc: 0.0000e+00\n",
      "Epoch 2/3\n",
      "100000/100000 [==============================] - 4s 37us/step - loss: 7.9427e-05 - xOut_loss: 3.4925e-05 - yOut_loss: 4.4502e-05 - xOut_acc: 0.0000e+00 - yOut_acc: 0.0000e+00\n",
      "Epoch 3/3\n",
      "100000/100000 [==============================] - 4s 38us/step - loss: 6.6051e-05 - xOut_loss: 2.6985e-05 - yOut_loss: 3.9066e-05 - xOut_acc: 0.0000e+00 - yOut_acc: 0.0000e+00\n"
=======
      "Epoch 1/5\n",
      "60000/60000 [==============================] - 4s 65us/step - loss: 1576.8096 - xOut_loss: 790.3669 - yOut_loss: 786.4427 - xOut_acc: 0.0000e+00 - yOut_acc: 0.0000e+00\n",
      "Epoch 2/5\n",
      "60000/60000 [==============================] - 3s 55us/step - loss: 1576.8006 - xOut_loss: 790.3622 - yOut_loss: 786.4384 - xOut_acc: 0.0000e+00 - yOut_acc: 0.0000e+00\n",
      "Epoch 3/5\n",
      "60000/60000 [==============================] - 3s 55us/step - loss: 1576.8006 - xOut_loss: 790.3622 - yOut_loss: 786.4384 - xOut_acc: 0.0000e+00 - yOut_acc: 0.0000e+00\n",
      "Epoch 4/5\n",
      "60000/60000 [==============================] - 3s 56us/step - loss: 1576.8006 - xOut_loss: 790.3622 - yOut_loss: 786.4384 - xOut_acc: 0.0000e+00 - yOut_acc: 0.0000e+00 0s - loss: 1578.0996 - xOut_loss: 790.4431 - yOut_loss: 787.6565 - xOut_acc: 0.0000e+00 - \n",
      "Epoch 5/5\n",
      "60000/60000 [==============================] - 3s 56us/step - loss: 1576.8006 - xOut_loss: 790.3622 - yOut_loss: 786.4384 - xOut_acc: 0.0000e+00 - yOut_acc: 0.0000e+00\n"
>>>>>>> a5b54efb5f2975109f434c426f538dbd446e8516
     ]
    },
    {
     "data": {
      "text/plain": [
<<<<<<< HEAD
       "<tensorflow.python.keras._impl.keras.callbacks.History at 0x25988828>"
      ]
     },
     "execution_count": 166,
=======
       "<tensorflow.python.keras.callbacks.History at 0x124c5b898>"
      ]
     },
     "execution_count": 36,
>>>>>>> a5b54efb5f2975109f434c426f538dbd446e8516
     "metadata": {},
     "output_type": "execute_result"
    }
   ],
   "source": [
<<<<<<< HEAD
    "model.fit(distances,[xOut_Train, yOut_Train,],epochs =3)"
=======
    "model.fit(distances,[xcoords, ycoords],epochs=5)"
>>>>>>> a5b54efb5f2975109f434c426f538dbd446e8516
   ]
  },
  {
   "cell_type": "code",
<<<<<<< HEAD
   "execution_count": 167,
=======
   "execution_count": 37,
>>>>>>> a5b54efb5f2975109f434c426f538dbd446e8516
   "metadata": {},
   "outputs": [
    {
     "name": "stdout",
     "output_type": "stream",
     "text": [
<<<<<<< HEAD
      "[ 0.35317695] [ 0.83381653]\n",
      "0.3564160679255003 0.8332899962795779\n"
=======
      "[[1.]] [[1.]]\n",
      "[12.50888039 48.24963347]\n"
>>>>>>> a5b54efb5f2975109f434c426f538dbd446e8516
     ]
    }
   ],
   "source": [
<<<<<<< HEAD
    "result = model.predict(distances)\n",
    "\n",
    "print(result[0][0], result[1][0])\n",
    "print(xOut_Train[0], yOut_Train[0])"
   ]
  },
  {
   "cell_type": "code",
   "execution_count": 242,
   "metadata": {},
   "outputs": [
    {
     "name": "stdout",
     "output_type": "stream",
     "text": [
      "[[ 0.12957592  0.37620549]]\n",
      "[array([[ 0.12966575]], dtype=float32), array([[ 0.37110832]], dtype=float32)]\n",
      "[array(0.1295759204807353)] [array(0.37620548832171097)]\n"
     ]
    }
   ],
   "source": [
    "#result = model.predict(input_data)\n",
    "\n",
    "test_distance, test_datapoint, test_sensor = tdg.generateStatic4PointIO(1,2,COORDINATE_SYSTEM)\n",
    "xOut_Test = []\n",
    "yOut_Test = []\n",
    "for i in range(len(test_datapoint)):\n",
    "    xOut_Test.append(numpy.array(test_datapoint[i][0]))\n",
    "    yOut_Test.append(numpy.array(test_datapoint[i][1]))\n",
    "    \n",
    "    \n",
    "result = model.predict(test_distance)\n",
    "\n",
    "print(test_datapoint)\n",
    "print(result)\n",
    "print(xOut_Test, yOut_Test)"
=======
    "result = model.predict(numpy.array([distances[0]]))\n",
    "print(result[0], result[1])\n",
    "print(datapoints[0])"
>>>>>>> a5b54efb5f2975109f434c426f538dbd446e8516
   ]
  },
  {
   "cell_type": "code",
   "execution_count": null,
   "metadata": {},
   "outputs": [],
   "source": []
  }
 ],
 "metadata": {
  "kernelspec": {
   "display_name": "Python 3",
   "language": "python",
   "name": "python3"
  },
  "language_info": {
   "codemirror_mode": {
    "name": "ipython",
    "version": 3
   },
   "file_extension": ".py",
   "mimetype": "text/x-python",
   "name": "python",
   "nbconvert_exporter": "python",
   "pygments_lexer": "ipython3",
<<<<<<< HEAD
   "version": "3.6.6"
=======
   "version": "3.7.0"
>>>>>>> a5b54efb5f2975109f434c426f538dbd446e8516
  }
 },
 "nbformat": 4,
 "nbformat_minor": 2
}
