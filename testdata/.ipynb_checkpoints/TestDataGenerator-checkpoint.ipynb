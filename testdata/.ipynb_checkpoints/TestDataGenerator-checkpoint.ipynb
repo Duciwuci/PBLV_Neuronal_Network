{
 "cells": [
  {
   "cell_type": "code",
   "execution_count": 4,
   "metadata": {
    "collapsed": true
   },
   "outputs": [],
   "source": [
    "import numpy as np"
   ]
  },
  {
   "cell_type": "code",
   "execution_count": 5,
   "metadata": {
    "collapsed": true
   },
   "outputs": [],
   "source": [
    "def generateDataPoints(count, dimensions, coordSize):\n",
    "    datapoints = np.random.rand(count, dimensions) * coordSize\n",
    "    return datapoints"
   ]
  },
  {
   "cell_type": "code",
   "execution_count": 6,
   "metadata": {
    "collapsed": true
   },
   "outputs": [],
   "source": [
    "def generateIO(dataCount, sensorCount, dimensions, coordSize):\n",
    "    sensors = generateDataPoints(sensorCount, dimensions, coordSize)\n",
    "    datapoints = generateDataPoints(dataCount, dimensions, coordSize)\n",
    "    distances = []\n",
    "    \n",
    "    \n",
    "    for i in range(len(datapoints)):\n",
    "        distancevector = sensors - datapoints[i]\n",
    "        distance = []\n",
    "        for j in range(len(distancevector)):\n",
    "            distance.append(np.linalg.norm(distancevector[j]))\n",
    "        \n",
    "        distances.append(distance)\n",
    "    \n",
    "    return distances, datapoints"
   ]
  },
  {
   "cell_type": "code",
   "execution_count": 7,
   "metadata": {
    "collapsed": true
   },
   "outputs": [],
   "source": [
    "def generateStatic4PointIO(dataCount, dimensions, coordSize):\n",
    "    sensors = [[0.0,0.0], [0.0, coordSize], [coordSize, 0.0], [coordSize, coordSize]]\n",
    "    datapoints = generateDataPoints(dataCount, dimensions, coordSize)\n",
    "    distances = []\n",
    "    \n",
    "    \n",
    "    for i in range(len(datapoints)):\n",
    "        distancevector = sensors - datapoints[i]\n",
    "        distance = []\n",
    "        for j in range(len(distancevector)):\n",
    "            distance.append(np.linalg.norm(distancevector[j]))\n",
    "        \n",
    "        distances.append(distance)\n",
    "    \n",
    "    return distances, datapoints"
   ]
  },
  {
   "cell_type": "code",
   "execution_count": 9,
   "metadata": {},
   "outputs": [
    {
     "name": "stdout",
     "output_type": "stream",
     "text": [
      "[[3.7502718453892117, 10.611525098108427, 6.2508650945473061, 11.730866993692151], [7.249087431710918, 2.8824348021984307, 11.743538153218809, 9.6783185601860282], [6.7820668656215872, 5.4373288061918421, 8.741315550659877, 7.744592380047485], [10.667575433359849, 6.5355480674300415, 9.2911133017996725, 3.9039735273365763], [10.453968992038742, 6.0293309867964862, 9.579975648883778, 4.3408867636743187]]\n"
     ]
    }
   ],
   "source": [
    "input, output = generateStatic4PointIO(5,2,10)\n",
    "\n",
    "print(input)"
   ]
  },
  {
   "cell_type": "code",
   "execution_count": null,
   "metadata": {
    "collapsed": true
   },
   "outputs": [],
   "source": []
  },
  {
   "cell_type": "code",
   "execution_count": null,
   "metadata": {
    "collapsed": true,
    "scrolled": true
   },
   "outputs": [],
   "source": [
    "\n",
    "\n"
   ]
  },
  {
   "cell_type": "code",
   "execution_count": null,
   "metadata": {
    "collapsed": true
   },
   "outputs": [],
   "source": []
  },
  {
   "cell_type": "code",
   "execution_count": null,
   "metadata": {
    "collapsed": true
   },
   "outputs": [],
   "source": []
  }
 ],
 "metadata": {
  "kernelspec": {
   "display_name": "Python 3",
   "language": "python",
   "name": "python3"
  },
  "language_info": {
   "codemirror_mode": {
    "name": "ipython",
    "version": 3
   },
   "file_extension": ".py",
   "mimetype": "text/x-python",
   "name": "python",
   "nbconvert_exporter": "python",
   "pygments_lexer": "ipython3",
   "version": "3.6.6"
  }
 },
 "nbformat": 4,
 "nbformat_minor": 2
}
