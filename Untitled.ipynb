{
 "cells": [
  {
   "cell_type": "code",
   "execution_count": 1,
   "metadata": {},
   "outputs": [
    {
     "name": "stdout",
     "output_type": "stream",
     "text": [
      "[[ 4.55240223  5.04056358]\n",
      " [ 2.50534171  7.37486194]\n",
      " [ 8.88061355  4.74704724]\n",
      " [ 4.53511146  2.27548556]\n",
      " [ 6.15891766  6.65047667]]\n"
     ]
    }
   ],
   "source": [
    "import TestDataGenerator as tdg\n",
    "\n",
    "print(tdg.generate(5,2,10))"
   ]
  }
 ],
 "metadata": {
  "kernelspec": {
   "display_name": "Python 3",
   "language": "python",
   "name": "python3"
  },
  "language_info": {
   "codemirror_mode": {
    "name": "ipython",
    "version": 3
   },
   "file_extension": ".py",
   "mimetype": "text/x-python",
   "name": "python",
   "nbconvert_exporter": "python",
   "pygments_lexer": "ipython3",
   "version": "3.6.6"
  }
 },
 "nbformat": 4,
 "nbformat_minor": 2
}
