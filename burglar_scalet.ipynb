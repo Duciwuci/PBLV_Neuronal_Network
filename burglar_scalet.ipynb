{
 "cells": [
  {
   "cell_type": "code",
   "execution_count": null,
   "metadata": {},
   "outputs": [],
   "source": [
    "#Imports\n",
    "\n",
    "import tensorflow as tf\n",
    "\n",
    "\n",
    "from tensorflow.keras.models import Model\n",
    "from tensorflow.keras.layers import Dense, Input\n",
    "\n",
    "import random\n",
    "import numpy\n",
    "\n",
    "import ipywidgets as widgets\n",
    "\n",
    "import testdata.TestDataGenerator"
   ]
  },
  {
   "cell_type": "code",
   "execution_count": null,
   "metadata": {},
   "outputs": [],
   "source": [
    "#Controls\n",
    "dimensions = widgets.BoundedIntText(\n",
    "    value=2,\n",
    "    min=2,\n",
    "    max=1000,\n",
    "    step=1,\n",
    "    description='Dimensions:'\n",
    ")\n",
    "\n",
    "sensors = widgets.BoundedIntText(\n",
    "    value=4,\n",
    "    min=1,\n",
    "    max=1000,\n",
    "    step=1,\n",
    "    description='Sensor count:'\n",
    ")\n",
    "\n",
    "sample = widgets.BoundedIntText(\n",
    "    value=100,\n",
    "    min=1,\n",
    "    max=10000000,\n",
    "    step=1,\n",
    "    description='Sample Size:'\n",
    ")\n",
    "hidden = widgets.Text(\n",
    "    value='64, 64',\n",
    "    placeholder='64, 65',\n",
    "    description='Hidden nodes:'\n",
    ")\n",
    "\n",
    "button = widgets.Button(description=\"Run\")\n",
    "\n",
    "display(dimensions)\n",
    "display(sensors)\n",
    "display(sample)\n",
    "display(hidden)\n",
    "display(button)"
   ]
  },
  {
   "cell_type": "code",
   "execution_count": null,
   "metadata": {},
   "outputs": [],
   "source": [
    "#definitions\n",
    "\n",
    "DIMENSIONS=dimensions.value\n",
    "SENSORS=[[0.2,0.3],[0.2,0.4],[0.5,0.3],[0.4,0.3]]\n",
    "\n",
    "INPUT_NODES = len(SENSORS)\n",
    "HIDDEN_NODES = [64,64]\n",
    "OUTPUT_NODES = DIMENSIONS\n",
    "\n"
   ]
  },
  {
   "cell_type": "code",
   "execution_count": null,
   "metadata": {},
   "outputs": [],
   "source": [
    "#Generate train data\n",
    "\n",
    "\n",
    "input_data = []\n",
    "xOutput_data = []\n",
    "yOutput_data = []\n",
    "for i in range (500):\n",
    "    x = random.random()\n",
    "    y = random.random()\n",
    "    xOutput_data.append(numpy.array(x))\n",
    "    yOutput_data.append(numpy.array(y))\n",
    "    input_data.append(numpy.array([\n",
    "        ((x-SENSORS[0][0])**2 + (y-SENSORS[0][1])**2)**0.5,\n",
    "        ((x-SENSORS[1][0])**2 + (y-SENSORS[1][1])**2)**0.5,\n",
    "        ((x-SENSORS[2][0])**2 + (y-SENSORS[2][1])**2)**0.5,\n",
    "        ((x-SENSORS[3][0])**2 + (y-SENSORS[3][1])**2)**0.5,\n",
    "    ]))\n",
    "input_data = numpy.array(input_data)\n",
    "xOutput_data = numpy.array(xOutput_data)\n",
    "yOutput_data = numpy.array(yOutput_data)"
   ]
  },
  {
   "cell_type": "code",
   "execution_count": null,
   "metadata": {},
   "outputs": [],
   "source": [
    "#Generate Model\n",
    "\n",
    "inp = Input((INPUT_NODES,))\n",
    "\n",
    "#model = keras.Sequential()\n",
    "#model.add(Dense(INPUT_NODES))\n",
    "x = Dense(128, activation='relu')(inp)\n",
    "x = Dense(128, activation='relu')(x)\n",
    "x = Dense(128, activation='relu')(x)\n",
    "x = Dense(128, activation='relu')(x)\n",
    "#for nodes in HIDDEN_NODES:\n",
    "    #x = Dense(nodes, activation='relu')(x)\n",
    "    #model.add(Dense(nodes,activation=tf.nn.relu))\n",
    "xOut = Dense(1, activation='sigmoid', name='xOut')(x)\n",
    "yOut = Dense(1, activation='sigmoid', name='yOut')(x)\n",
    "model = Model(inputs=inp, outputs=[xOut, yOut])\n",
    "#model.add(Dense(OUTPUT_NODES))\n",
    "model.compile(optimizer='adam', loss='mean_squared_error', metrics=['accuracy'])\n"
   ]
  },
  {
   "cell_type": "code",
   "execution_count": null,
   "metadata": {},
   "outputs": [],
   "source": [
    "model.fit(input_data,[xOutput_data, yOutput_data,],epochs =20)"
   ]
  },
  {
   "cell_type": "code",
   "execution_count": null,
   "metadata": {},
   "outputs": [],
   "source": [
    "#result = model.predict(input_data)\n",
    "\n",
    "x = 0.1\n",
    "y = 0.8\n",
    "\n",
    "test = numpy.array([[\n",
    "        ((x-SENSORS[0][0])**2 + (y-SENSORS[0][1])**2)**0.5,\n",
    "        ((x-SENSORS[1][0])**2 + (y-SENSORS[1][1])**2)**0.5,\n",
    "        ((x-SENSORS[2][0])**2 + (y-SENSORS[2][1])**2)**0.5,\n",
    "        ((x-SENSORS[3][0])**2 + (y-SENSORS[3][1])**2)**0.5,\n",
    "    ]])\n",
    "\n",
    "print(type(input_data))\n",
    "\n",
    "result = model.predict(test)\n",
    "\n",
    "print(result)\n",
    "\n",
    "#for i in range(500):\n",
    "#    print(result[0][i], \"\\t\", result[1][i], \"\\t\\t\", xOutput_data[i], \"\\t\", yOutput_data[i])"
   ]
  }
 ],
 "metadata": {
  "kernelspec": {
   "display_name": "Python 3",
   "language": "python",
   "name": "python3"
  },
  "language_info": {
   "codemirror_mode": {
    "name": "ipython",
    "version": 3
   },
   "file_extension": ".py",
   "mimetype": "text/x-python",
   "name": "python",
   "nbconvert_exporter": "python",
   "pygments_lexer": "ipython3"
  }
 },
 "nbformat": 4,
 "nbformat_minor": 2
}
