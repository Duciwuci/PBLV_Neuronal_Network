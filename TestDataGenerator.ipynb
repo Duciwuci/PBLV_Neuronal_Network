{
 "cells": [
  {
   "cell_type": "code",
   "execution_count": 130,
   "metadata": {},
   "outputs": [],
   "source": [
    "import numpy as np"
   ]
  },
  {
   "cell_type": "code",
   "execution_count": 131,
   "metadata": {},
   "outputs": [],
   "source": [
    "def generateDataPoints(count, dimensions, coordSize):\n",
    "    datapoints = np.random.rand(count, dimensions) * coordSize\n",
    "    return datapoints"
   ]
  },
  {
   "cell_type": "code",
   "execution_count": 132,
   "metadata": {
    "collapsed": true
   },
   "outputs": [],
   "source": [
    "def generateIO(dataCount, sensorCount, dimensions, coordSize):\n",
    "    sensors = generateDataPoints(sensorCount, dimensions, coordSize)\n",
    "    datapoints = generateDataPoints(dataCount, dimensions, coordSize)\n",
    "    distances = []\n",
    "    \n",
    "    \n",
    "    for i in range(len(datapoints)):\n",
    "        distancevector = sensors - datapoints[i]\n",
    "        distance = []\n",
    "        for j in range(len(distancevector)):\n",
    "            distance.append(np.linalg.norm(distancevector[j]))\n",
    "        \n",
    "        distances.append(distance)\n",
    "    \n",
    "    return distances, datapoints"
   ]
  },
  {
   "cell_type": "code",
   "execution_count": 133,
   "metadata": {
    "collapsed": true
   },
   "outputs": [],
   "source": [
    "def generateStatic4PointIO(dataCount, dimensions, coordSize):\n",
    "    sensors = [[0.0,0.0], [0.0, coordSize], [coordSize, 0.0], [coordSize, coordSize]]\n",
    "    datapoints = generateDataPoints(dataCount, dimensions, coordSize)\n",
    "    distances = []\n",
    "    \n",
    "    \n",
    "    for i in range(len(datapoints)):\n",
    "        distancevector = sensors - datapoints[i]\n",
    "        distance = []\n",
    "        for j in range(len(distancevector)):\n",
    "            distance.append(np.linalg.norm(distancevector[j]))\n",
    "        \n",
    "        distances.append(distance)\n",
    "    \n",
    "    return distances, datapoints"
   ]
  },
  {
   "cell_type": "code",
   "execution_count": null,
   "metadata": {},
   "outputs": [],
   "source": []
  },
  {
   "cell_type": "code",
   "execution_count": null,
   "metadata": {},
   "outputs": [],
   "source": []
  },
  {
   "cell_type": "code",
   "execution_count": null,
   "metadata": {
    "scrolled": true
   },
   "outputs": [],
   "source": [
    "\n",
    "\n"
   ]
  },
  {
   "cell_type": "code",
   "execution_count": null,
   "metadata": {
    "collapsed": true
   },
   "outputs": [],
   "source": []
  },
  {
   "cell_type": "code",
   "execution_count": null,
   "metadata": {
    "collapsed": true
   },
   "outputs": [],
   "source": []
  }
 ],
 "metadata": {
  "kernelspec": {
   "display_name": "Python 3",
   "language": "python",
   "name": "python3"
  },
  "language_info": {
   "codemirror_mode": {
    "name": "ipython",
    "version": 3
   },
   "file_extension": ".py",
   "mimetype": "text/x-python",
   "name": "python",
   "nbconvert_exporter": "python",
   "pygments_lexer": "ipython3",
   "version": "3.6.6"
  }
 },
 "nbformat": 4,
 "nbformat_minor": 2
}
