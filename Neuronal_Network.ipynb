{
 "cells": [
  {
   "cell_type": "code",
   "execution_count": 69,
   "metadata": {},
   "outputs": [],
   "source": [
    "#imports\n",
    "import testdata.TestDataGenerator as tdg\n",
    "import tensorflow as tf\n",
    "from tensorflow import keras\n",
    "import matplotlib.pyplot as plt\n",
    "import random\n",
    "import numpy"
   ]
  },
  {
   "cell_type": "code",
   "execution_count": 70,
   "metadata": {},
   "outputs": [],
   "source": [
    "#definitions\n",
    "\n",
    "DIMENSIONS=2\n",
    "SENSORS= 4\n",
    "\n",
    "COORDINATE_SYSTEM = 1\n",
    "\n",
    "INPUT_NODES = SENSORS\n",
    "HIDDEN_NODES = [64,64]\n",
    "OUTPUT_NODES = DIMENSIONS\n",
    "\n"
   ]
  },
  {
   "cell_type": "code",
   "execution_count": 71,
   "metadata": {},
   "outputs": [],
   "source": [
    "#Generate train data\n",
    "\n",
    "distances, datapoints, sensors = tdg.generateStatic4PointIO(1000,2,COORDINATE_SYSTEM)\n",
    "\n",
    "\n",
    "xOut_Train = []\n",
    "yOut_Train = []\n",
    "for i in range(len(datapoints)):\n",
    "    xOut_Train.append(numpy.array(datapoints[i][0]))\n",
    "    yOut_Train.append(numpy.array(datapoints[i][1]))\n"
   ]
  },
  {
   "cell_type": "code",
   "execution_count": 72,
   "metadata": {},
   "outputs": [],
   "source": [
    "#Generate Model\n",
    "\n",
    "inp = keras.layers.Input((SENSORS,))\n",
    "\n",
    "x = keras.layers.Dense(64, activation='relu')(inp)\n",
    "x = keras.layers.Dense(64, activation='relu')(x)\n",
    "xOut = keras.layers.Dense(1, activation='sigmoid', name='xOut')(x)\n",
    "yOut = keras.layers.Dense(1, activation='sigmoid', name='yOut')(x)\n",
    "model = keras.models.Model(inputs=inp, outputs=[xOut, yOut])\n",
    "\n",
    "model.compile(optimizer='adam', loss='mean_squared_error', metrics=['accuracy'])\n"
   ]
  },
  {
   "cell_type": "code",
   "execution_count": 84,
   "metadata": {
    "scrolled": true
   },
   "outputs": [
    {
     "name": "stdout",
     "output_type": "stream",
     "text": [
      "Epoch 1/5\n",
      "1000/1000 [==============================] - 0s 76us/step - loss: 0.0015 - xOut_loss: 7.5137e-04 - yOut_loss: 7.9260e-04 - xOut_acc: 0.0000e+00 - yOut_acc: 0.0000e+00\n",
      "Epoch 2/5\n",
      "1000/1000 [==============================] - 0s 61us/step - loss: 0.0015 - xOut_loss: 7.4601e-04 - yOut_loss: 7.4618e-04 - xOut_acc: 0.0000e+00 - yOut_acc: 0.0000e+00\n",
      "Epoch 3/5\n",
      "1000/1000 [==============================] - 0s 53us/step - loss: 0.0015 - xOut_loss: 7.7524e-04 - yOut_loss: 7.4133e-04 - xOut_acc: 0.0000e+00 - yOut_acc: 0.0000e+00\n",
      "Epoch 4/5\n",
      "1000/1000 [==============================] - 0s 50us/step - loss: 0.0015 - xOut_loss: 7.5149e-04 - yOut_loss: 7.4308e-04 - xOut_acc: 0.0000e+00 - yOut_acc: 0.0000e+00\n",
      "Epoch 5/5\n",
      "1000/1000 [==============================] - 0s 56us/step - loss: 0.0015 - xOut_loss: 7.4034e-04 - yOut_loss: 7.2172e-04 - xOut_acc: 0.0000e+00 - yOut_acc: 0.0000e+00\n"
     ]
    },
    {
     "data": {
      "text/plain": [
       "<matplotlib.legend.Legend at 0x131005240>"
      ]
     },
     "execution_count": 84,
     "metadata": {},
     "output_type": "execute_result"
    },
    {
     "data": {
      "image/png": "[encoded data removed]",
      "text/plain": [
       "<Figure size 432x288 with 1 Axes>"
      ]
     },
     "metadata": {
      "needs_background": "light"
     },
     "output_type": "display_data"
    }
   ],
   "source": [
    "hist = model.fit(distances,[xOut_Train, yOut_Train,],epochs =5)\n",
    "plt.title('loss function')\n",
    "plt.xlabel('epochs')\n",
    "plt.ylabel('loss')\n",
    "plt.plot(hist.history['loss'])\n",
    "plt.plot(hist.history['yOut_loss'])\n",
    "plt.plot(hist.history['xOut_loss'])\n",
    "plt.legend(['loss', 'y-Loss', 'x-Loss'], loc='upper left')\n"
   ]
  },
  {
   "cell_type": "code",
   "execution_count": 74,
   "metadata": {},
   "outputs": [
    {
     "name": "stdout",
     "output_type": "stream",
     "text": [
      "[0.30559054] [0.29884195]\n",
      "0.3328337923965585 0.32101290196746735\n"
     ]
    }
   ],
   "source": [
    "result = model.predict(distances)\n",
    "\n",
    "print(result[0][0], result[1][0])\n",
    "print(xOut_Train[0], yOut_Train[0])"
   ]
  },
  {
   "cell_type": "code",
   "execution_count": 75,
   "metadata": {},
   "outputs": [
    {
     "name": "stdout",
     "output_type": "stream",
     "text": [
      "[array([[0.13626668]], dtype=float32), array([[0.21281765]], dtype=float32)]\n",
      "[array(0.11683243)] [array(0.23017375)]\n"
     ]
    }
   ],
   "source": [
    "\n",
    "\n",
    "test_distance, test_datapoint, test_sensor = tdg.generateStatic4PointIO(1,2,COORDINATE_SYSTEM)\n",
    "xOut_Test = []\n",
    "yOut_Test = []\n",
    "for i in range(len(test_datapoint)):\n",
    "    xOut_Test.append(numpy.array(test_datapoint[i][0]))\n",
    "    yOut_Test.append(numpy.array(test_datapoint[i][1]))\n",
    "    \n",
    "    \n",
    "result = model.predict(test_distance)\n",
    "\n",
    "print(result)\n",
    "print(xOut_Test, yOut_Test)"
   ]
  },
  {
   "cell_type": "code",
   "execution_count": null,
   "metadata": {},
   "outputs": [],
   "source": []
  }
 ],
 "metadata": {
  "kernelspec": {
   "display_name": "Python 3",
   "language": "python",
   "name": "python3"
  },
  "language_info": {
   "codemirror_mode": {
    "name": "ipython",
    "version": 3
   },
   "file_extension": ".py",
   "mimetype": "text/x-python",
   "name": "python",
   "nbconvert_exporter": "python",
   "pygments_lexer": "ipython3",
   "version": "3.7.0"
  }
 },
 "nbformat": 4,
 "nbformat_minor": 2
}
