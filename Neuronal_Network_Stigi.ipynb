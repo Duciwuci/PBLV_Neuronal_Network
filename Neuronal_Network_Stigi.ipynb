{
 "cells": [
  {
   "cell_type": "code",
   "execution_count": null,
   "metadata": {},
   "outputs": [],
   "source": [
    "#imports\n",
    "import testdata.TestDataGenerator as tdg\n",
    "import tensorflow as tf\n",
    "from tensorflow import keras\n",
    "import random\n",
    "import numpy"
   ]
  },
  {
   "cell_type": "code",
   "execution_count": null,
   "metadata": {},
   "outputs": [],
   "source": [
    "#definitions\n",
    "\n",
    "DIMENSIONS=4\n",
    "SENSORS= 4\n",
    "COORDINATE_SYSTEM = 1\n",
    "\n",
    "HIDDEN_NODES = [64,64]\n",
    "OUTPUT_NODES = DIMENSIONS"
   ]
  },
  {
   "cell_type": "code",
   "execution_count": null,
   "metadata": {},
   "outputs": [],
   "source": [
    "#Generate train data\n",
    "\n",
    "distances, datapoints, sensors = tdg.generateIO(1000,SENSORS, DIMENSIONS,COORDINATE_SYSTEM)\n",
    "\n",
    "#Generate Model\n",
    "\n",
    "inp = keras.layers.Input((SENSORS,))\n",
    "layer = keras.layers.Dense(64, activation='relu')(inp)\n",
    "layer = keras.layers.Dense(64, activation='relu')(layer)\n",
    "outp = []\n",
    "for i in range(DIMENSIONS):\n",
    "    outp.append(keras.layers.Dense(1, activation='sigmoid', name=\"dim\"+str(i))(layer)) \n",
    "model = keras.models.Model(inputs=inp, outputs=outp)\n",
    "model.compile(optimizer='adam', loss='mean_squared_error')\n",
    "\n",
    "#Train Model\n",
    "model.fit(distances,datapoints,epochs =5)"
   ]
  },
  {
   "cell_type": "code",
   "execution_count": null,
   "metadata": {},
   "outputs": [],
   "source": [
    "test_distance, test_datapoint, test_sensor = tdg.generateFromSensors(1, DIMENSIONS, COORDINATE_SYSTEM, sensors)      \n",
    "result = model.predict(test_distance)\n",
    "\n",
    "print(\"Ergebnis: Soll -> Prediction\")\n",
    "for i in range(DIMENSIONS):\n",
    "    print(\"dim\" + str(i) + \": \" + str(test_datapoint[i][0]) + \" -> \" + str(result[i][0][0]))\n"
   ]
  },
  {
   "cell_type": "code",
   "execution_count": null,
   "metadata": {},
   "outputs": [],
   "source": [
    "test_distance, test_datapoint, test_sensor = tdg.generateFromSensors(1000, DIMENSIONS, COORDINATE_SYSTEM, sensors)      \n",
    "result = model.evaluate(test_distance, test_datapoint)\n",
    "\n",
    "for i in range(len(result)):\n",
    "    print(model.metrics_names[i] + \": \" + str(result[i]))\n",
    "    \n",
    "#print(\"relative loss: \" + str(result[0]*100) + \"%\")"
   ]
  }
 ],
 "metadata": {
  "kernelspec": {
   "display_name": "Python 3",
   "language": "python",
   "name": "python3"
  },
  "language_info": {
   "codemirror_mode": {
    "name": "ipython",
    "version": 3
   },
   "file_extension": ".py",
   "mimetype": "text/x-python",
   "name": "python",
   "nbconvert_exporter": "python",
   "pygments_lexer": "ipython3"
  }
 },
 "nbformat": 4,
 "nbformat_minor": 2
}
