{
 "cells": [
  {
   "cell_type": "code",
   "execution_count": 366,
   "metadata": {
    "collapsed": true
   },
   "outputs": [],
   "source": [
    "#imports\n",
    "import testdata.TestDataGenerator as tdg\n",
    "import tensorflow as tf\n",
    "from tensorflow import keras\n",
    "import random\n",
    "import numpy"
   ]
  },
  {
   "cell_type": "code",
   "execution_count": 367,
   "metadata": {
    "collapsed": true
   },
   "outputs": [],
   "source": [
    "#definitions\n",
    "\n",
    "DIMENSIONS=4\n",
    "SENSORS= 4\n",
    "COORDINATE_SYSTEM = 1\n",
    "\n",
    "HIDDEN_NODES = [64,64]\n",
    "OUTPUT_NODES = DIMENSIONS\n",
    "\n"
   ]
  },
  {
   "cell_type": "code",
   "execution_count": 378,
   "metadata": {},
   "outputs": [
    {
     "name": "stdout",
     "output_type": "stream",
     "text": [
      "Epoch 1/5\n",
      "1000/1000 [==============================] - 2s 2ms/step - loss: 0.3058 - dim0_loss: 0.0783 - dim1_loss: 0.0772 - dim2_loss: 0.0731 - dim3_loss: 0.0772\n",
      "Epoch 2/5\n",
      "1000/1000 [==============================] - 0s 86us/step - loss: 0.2525 - dim0_loss: 0.0706 - dim1_loss: 0.0610 - dim2_loss: 0.0586 - dim3_loss: 0.0623\n",
      "Epoch 3/5\n",
      "1000/1000 [==============================] - 0s 51us/step - loss: 0.2097 - dim0_loss: 0.0646 - dim1_loss: 0.0450 - dim2_loss: 0.0480 - dim3_loss: 0.0521\n",
      "Epoch 4/5\n",
      "1000/1000 [==============================] - 0s 49us/step - loss: 0.1838 - dim0_loss: 0.0616 - dim1_loss: 0.0312 - dim2_loss: 0.0425 - dim3_loss: 0.0485\n",
      "Epoch 5/5\n",
      "1000/1000 [==============================] - 0s 47us/step - loss: 0.1675 - dim0_loss: 0.0597 - dim1_loss: 0.0224 - dim2_loss: 0.0388 - dim3_loss: 0.0467\n"
     ]
    },
    {
     "data": {
      "text/plain": [
       "<tensorflow.python.keras._impl.keras.callbacks.History at 0x38cb72e8>"
      ]
     },
     "execution_count": 378,
     "metadata": {},
     "output_type": "execute_result"
    }
   ],
   "source": [
    "#Generate train data\n",
    "\n",
    "distances, datapoints, sensors = tdg.generateIO(1000,SENSORS, DIMENSIONS,COORDINATE_SYSTEM)\n",
    "\n",
    "#Generate Model\n",
    "\n",
    "inp = keras.layers.Input((SENSORS,))\n",
    "layer = keras.layers.Dense(64, activation='relu')(inp)\n",
    "layer = keras.layers.Dense(64, activation='relu')(layer)\n",
    "outp = []\n",
    "for i in range(DIMENSIONS):\n",
    "    outp.append(keras.layers.Dense(1, activation='sigmoid', name=\"dim\"+str(i))(layer)) \n",
    "model = keras.models.Model(inputs=inp, outputs=outp)\n",
    "model.compile(optimizer='adam', loss='mean_squared_error')\n",
    "\n",
    "#Train Model\n",
    "model.fit(distances,datapoints,epochs =5)\n"
   ]
  },
  {
   "cell_type": "code",
   "execution_count": 376,
   "metadata": {},
   "outputs": [
    {
     "name": "stdout",
     "output_type": "stream",
     "text": [
      "Ergebnis: Soll -> Prediction\n",
      "dim0: 0.20814629890844716 -> 0.24864\n",
      "dim1: 0.7052905232562247 -> 0.601274\n",
      "dim2: 0.4459636927615289 -> 0.299619\n",
      "dim3: 0.46836351786151875 -> 0.342123\n"
     ]
    }
   ],
   "source": [
    "test_distance, test_datapoint, test_sensor = tdg.generateFromSensors(1, DIMENSIONS, COORDINATE_SYSTEM, sensors)      \n",
    "result = model.predict(test_distance)\n",
    "\n",
    "print(\"Ergebnis: Soll -> Prediction\")\n",
    "for i in range(DIMENSIONS):\n",
    "    print(\"dim\" + str(i) + \": \" + str(test_datapoint[i][0]) + \" -> \" + str(result[i][0][0]))\n"
   ]
  },
  {
   "cell_type": "code",
   "execution_count": 379,
   "metadata": {},
   "outputs": [
    {
     "name": "stdout",
     "output_type": "stream",
     "text": [
      "1000/1000 [==============================] - 1s 685us/step\n",
      "loss: 0.158068201423\n",
      "dim0_loss: 0.0602298271656\n",
      "dim1_loss: 0.0172579016685\n",
      "dim2_loss: 0.0347292886376\n",
      "dim3_loss: 0.0458511840105\n"
     ]
    }
   ],
   "source": [
    "test_distance, test_datapoint, test_sensor = tdg.generateFromSensors(1000, DIMENSIONS, COORDINATE_SYSTEM, sensors)      \n",
    "result = model.evaluate(test_distance, test_datapoint)\n",
    "\n",
    "for i in range(len(result)):\n",
    "    print(model.metrics_names[i] + \": \" + str(result[i]))\n",
    "    \n",
    "#print(\"relative loss: \" + str(result[0]*100) + \"%\")"
   ]
  }
 ],
 "metadata": {
  "kernelspec": {
   "display_name": "Python 3",
   "language": "python",
   "name": "python3"
  },
  "language_info": {
   "codemirror_mode": {
    "name": "ipython",
    "version": 3
   },
   "file_extension": ".py",
   "mimetype": "text/x-python",
   "name": "python",
   "nbconvert_exporter": "python",
   "pygments_lexer": "ipython3",
   "version": "3.6.6"
  }
 },
 "nbformat": 4,
 "nbformat_minor": 2
}
