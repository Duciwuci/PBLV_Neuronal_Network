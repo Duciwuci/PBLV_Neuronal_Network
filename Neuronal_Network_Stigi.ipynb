{
 "cells": [
  {
   "cell_type": "code",
   "execution_count": 134,
   "metadata": {
    "collapsed": true
   },
   "outputs": [],
   "source": [
    "#imports\n",
    "import testdata.TestDataGenerator as tdg\n",
    "import tensorflow as tf\n",
    "from tensorflow import keras\n",
    "import random\n",
    "import numpy"
   ]
  },
  {
   "cell_type": "code",
   "execution_count": 358,
   "metadata": {
    "collapsed": true
   },
   "outputs": [],
   "source": [
    "#definitions\n",
    "\n",
    "DIMENSIONS=40\n",
    "SENSORS= 1\n",
    "COORDINATE_SYSTEM = 1\n",
    "\n",
    "HIDDEN_NODES = [64,64]\n",
    "OUTPUT_NODES = DIMENSIONS\n",
    "\n"
   ]
  },
  {
   "cell_type": "code",
   "execution_count": 359,
   "metadata": {},
   "outputs": [
    {
     "name": "stdout",
     "output_type": "stream",
     "text": [
      "Epoch 1/5\n",
      "100/100 [==============================] - 4s 37ms/step - loss: 3.5006 - dense_69_loss: 0.0848 - dense_70_loss: 0.0864 - dense_71_loss: 0.0760 - dense_72_loss: 0.0697 - dense_73_loss: 0.0822 - dense_74_loss: 0.0701 - dense_75_loss: 0.0873 - dense_76_loss: 0.0765 - dense_77_loss: 0.0796 - dense_78_loss: 0.0884 - dense_79_loss: 0.0960 - dense_80_loss: 0.1118 - dense_81_loss: 0.0790 - dense_82_loss: 0.0971 - dense_83_loss: 0.0869 - dense_84_loss: 0.0778 - dense_85_loss: 0.0960 - dense_86_loss: 0.0757 - dense_87_loss: 0.0801 - dense_88_loss: 0.0882 - dense_89_loss: 0.1092 - dense_90_loss: 0.0789 - dense_91_loss: 0.0780 - dense_92_loss: 0.0873 - dense_93_loss: 0.1041 - dense_94_loss: 0.0789 - dense_95_loss: 0.0851 - dense_96_loss: 0.0923 - dense_97_loss: 0.0981 - dense_98_loss: 0.0756 - dense_99_loss: 0.0822 - dense_100_loss: 0.1080 - dense_101_loss: 0.0874 - dense_102_loss: 0.0993 - dense_103_loss: 0.0786 - dense_104_loss: 0.0896 - dense_105_loss: 0.0865 - dense_106_loss: 0.0879 - dense_107_loss: 0.0931 - dense_108_loss: 0.1110 - dense_69_acc: 0.0000e+00 - dense_70_acc: 0.0000e+00 - dense_71_acc: 0.0000e+00 - dense_72_acc: 0.0000e+00 - dense_73_acc: 0.0000e+00 - dense_74_acc: 0.0000e+00 - dense_75_acc: 0.0000e+00 - dense_76_acc: 0.0000e+00 - dense_77_acc: 0.0000e+00 - dense_78_acc: 0.0000e+00 - dense_79_acc: 0.0000e+00 - dense_80_acc: 0.0000e+00 - dense_81_acc: 0.0000e+00 - dense_82_acc: 0.0000e+00 - dense_83_acc: 0.0000e+00 - dense_84_acc: 0.0000e+00 - dense_85_acc: 0.0000e+00 - dense_86_acc: 0.0000e+00 - dense_87_acc: 0.0000e+00 - dense_88_acc: 0.0000e+00 - dense_89_acc: 0.0000e+00 - dense_90_acc: 0.0000e+00 - dense_91_acc: 0.0000e+00 - dense_92_acc: 0.0000e+00 - dense_93_acc: 0.0000e+00 - dense_94_acc: 0.0000e+00 - dense_95_acc: 0.0000e+00 - dense_96_acc: 0.0000e+00 - dense_97_acc: 0.0000e+00 - dense_98_acc: 0.0000e+00 - dense_99_acc: 0.0000e+00 - dense_100_acc: 0.0000e+00 - dense_101_acc: 0.0000e+00 - dense_102_acc: 0.0000e+00 - dense_103_acc: 0.0000e+00 - dense_104_acc: 0.0000e+00 - dense_105_acc: 0.0000e+00 - dense_106_acc: 0.0000e+00 - dense_107_acc: 0.0000e+00 - dense_108_acc: 0.0000e+00\n",
      "Epoch 2/5\n",
      "100/100 [==============================] - 0s 450us/step - loss: 3.4115 - dense_69_loss: 0.0845 - dense_70_loss: 0.0866 - dense_71_loss: 0.0753 - dense_72_loss: 0.0696 - dense_73_loss: 0.0813 - dense_74_loss: 0.0700 - dense_75_loss: 0.0871 - dense_76_loss: 0.0766 - dense_77_loss: 0.0782 - dense_78_loss: 0.0879 - dense_79_loss: 0.0915 - dense_80_loss: 0.1060 - dense_81_loss: 0.0785 - dense_82_loss: 0.0900 - dense_83_loss: 0.0790 - dense_84_loss: 0.0759 - dense_85_loss: 0.0947 - dense_86_loss: 0.0745 - dense_87_loss: 0.0802 - dense_88_loss: 0.0873 - dense_89_loss: 0.1008 - dense_90_loss: 0.0781 - dense_91_loss: 0.0781 - dense_92_loss: 0.0834 - dense_93_loss: 0.1007 - dense_94_loss: 0.0787 - dense_95_loss: 0.0816 - dense_96_loss: 0.0924 - dense_97_loss: 0.0971 - dense_98_loss: 0.0752 - dense_99_loss: 0.0757 - dense_100_loss: 0.1032 - dense_101_loss: 0.0867 - dense_102_loss: 0.0982 - dense_103_loss: 0.0753 - dense_104_loss: 0.0856 - dense_105_loss: 0.0861 - dense_106_loss: 0.0846 - dense_107_loss: 0.0922 - dense_108_loss: 0.1030 - dense_69_acc: 0.0000e+00 - dense_70_acc: 0.0000e+00 - dense_71_acc: 0.0000e+00 - dense_72_acc: 0.0000e+00 - dense_73_acc: 0.0000e+00 - dense_74_acc: 0.0000e+00 - dense_75_acc: 0.0000e+00 - dense_76_acc: 0.0000e+00 - dense_77_acc: 0.0000e+00 - dense_78_acc: 0.0000e+00 - dense_79_acc: 0.0000e+00 - dense_80_acc: 0.0000e+00 - dense_81_acc: 0.0000e+00 - dense_82_acc: 0.0000e+00 - dense_83_acc: 0.0000e+00 - dense_84_acc: 0.0000e+00 - dense_85_acc: 0.0000e+00 - dense_86_acc: 0.0000e+00 - dense_87_acc: 0.0000e+00 - dense_88_acc: 0.0000e+00 - dense_89_acc: 0.0000e+00 - dense_90_acc: 0.0000e+00 - dense_91_acc: 0.0000e+00 - dense_92_acc: 0.0000e+00 - dense_93_acc: 0.0000e+00 - dense_94_acc: 0.0000e+00 - dense_95_acc: 0.0000e+00 - dense_96_acc: 0.0000e+00 - dense_97_acc: 0.0000e+00 - dense_98_acc: 0.0000e+00 - dense_99_acc: 0.0000e+00 - dense_100_acc: 0.0000e+00 - dense_101_acc: 0.0000e+00 - dense_102_acc: 0.0000e+00 - dense_103_acc: 0.0000e+00 - dense_104_acc: 0.0000e+00 - dense_105_acc: 0.0000e+00 - dense_106_acc: 0.0000e+00 - dense_107_acc: 0.0000e+00 - dense_108_acc: 0.0000e+00\n",
      "Epoch 3/5\n",
      "100/100 [==============================] - 0s 450us/step - loss: 3.3666 - dense_69_loss: 0.0841 - dense_70_loss: 0.0869 - dense_71_loss: 0.0750 - dense_72_loss: 0.0696 - dense_73_loss: 0.0806 - dense_74_loss: 0.0700 - dense_75_loss: 0.0873 - dense_76_loss: 0.0764 - dense_77_loss: 0.0778 - dense_78_loss: 0.0881 - dense_79_loss: 0.0885 - dense_80_loss: 0.1008 - dense_81_loss: 0.0789 - dense_82_loss: 0.0859 - dense_83_loss: 0.0754 - dense_84_loss: 0.0752 - dense_85_loss: 0.0944 - dense_86_loss: 0.0742 - dense_87_loss: 0.0807 - dense_88_loss: 0.0867 - dense_89_loss: 0.0972 - dense_90_loss: 0.0782 - dense_91_loss: 0.0787 - dense_92_loss: 0.0815 - dense_93_loss: 0.0987 - dense_94_loss: 0.0787 - dense_95_loss: 0.0788 - dense_96_loss: 0.0923 - dense_97_loss: 0.0962 - dense_98_loss: 0.0751 - dense_99_loss: 0.0725 - dense_100_loss: 0.1016 - dense_101_loss: 0.0866 - dense_102_loss: 0.0978 - dense_103_loss: 0.0726 - dense_104_loss: 0.0836 - dense_105_loss: 0.0865 - dense_106_loss: 0.0831 - dense_107_loss: 0.0915 - dense_108_loss: 0.0991 - dense_69_acc: 0.0000e+00 - dense_70_acc: 0.0000e+00 - dense_71_acc: 0.0000e+00 - dense_72_acc: 0.0000e+00 - dense_73_acc: 0.0000e+00 - dense_74_acc: 0.0000e+00 - dense_75_acc: 0.0000e+00 - dense_76_acc: 0.0000e+00 - dense_77_acc: 0.0000e+00 - dense_78_acc: 0.0000e+00 - dense_79_acc: 0.0000e+00 - dense_80_acc: 0.0000e+00 - dense_81_acc: 0.0000e+00 - dense_82_acc: 0.0000e+00 - dense_83_acc: 0.0000e+00 - dense_84_acc: 0.0000e+00 - dense_85_acc: 0.0000e+00 - dense_86_acc: 0.0000e+00 - dense_87_acc: 0.0000e+00 - dense_88_acc: 0.0000e+00 - dense_89_acc: 0.0000e+00 - dense_90_acc: 0.0000e+00 - dense_91_acc: 0.0000e+00 - dense_92_acc: 0.0000e+00 - dense_93_acc: 0.0000e+00 - dense_94_acc: 0.0000e+00 - dense_95_acc: 0.0000e+00 - dense_96_acc: 0.0000e+00 - dense_97_acc: 0.0000e+00 - dense_98_acc: 0.0000e+00 - dense_99_acc: 0.0000e+00 - dense_100_acc: 0.0000e+00 - dense_101_acc: 0.0000e+00 - dense_102_acc: 0.0000e+00 - dense_103_acc: 0.0000e+00 - dense_104_acc: 0.0000e+00 - dense_105_acc: 0.0000e+00 - dense_106_acc: 0.0000e+00 - dense_107_acc: 0.0000e+00 - dense_108_acc: 0.0000e+00\n",
      "Epoch 4/5\n"
     ]
    },
    {
     "name": "stdout",
     "output_type": "stream",
     "text": [
      "100/100 [==============================] - 0s 400us/step - loss: 3.3436 - dense_69_loss: 0.0837 - dense_70_loss: 0.0867 - dense_71_loss: 0.0750 - dense_72_loss: 0.0695 - dense_73_loss: 0.0803 - dense_74_loss: 0.0700 - dense_75_loss: 0.0876 - dense_76_loss: 0.0764 - dense_77_loss: 0.0777 - dense_78_loss: 0.0882 - dense_79_loss: 0.0868 - dense_80_loss: 0.0976 - dense_81_loss: 0.0797 - dense_82_loss: 0.0837 - dense_83_loss: 0.0740 - dense_84_loss: 0.0750 - dense_85_loss: 0.0934 - dense_86_loss: 0.0742 - dense_87_loss: 0.0807 - dense_88_loss: 0.0864 - dense_89_loss: 0.0924 - dense_90_loss: 0.0786 - dense_91_loss: 0.0807 - dense_92_loss: 0.0808 - dense_93_loss: 0.0987 - dense_94_loss: 0.0787 - dense_95_loss: 0.0780 - dense_96_loss: 0.0921 - dense_97_loss: 0.0961 - dense_98_loss: 0.0752 - dense_99_loss: 0.0710 - dense_100_loss: 0.1016 - dense_101_loss: 0.0866 - dense_102_loss: 0.0970 - dense_103_loss: 0.0718 - dense_104_loss: 0.0815 - dense_105_loss: 0.0861 - dense_106_loss: 0.0820 - dense_107_loss: 0.0906 - dense_108_loss: 0.0975 - dense_69_acc: 0.0000e+00 - dense_70_acc: 0.0000e+00 - dense_71_acc: 0.0000e+00 - dense_72_acc: 0.0000e+00 - dense_73_acc: 0.0000e+00 - dense_74_acc: 0.0000e+00 - dense_75_acc: 0.0000e+00 - dense_76_acc: 0.0000e+00 - dense_77_acc: 0.0000e+00 - dense_78_acc: 0.0000e+00 - dense_79_acc: 0.0000e+00 - dense_80_acc: 0.0000e+00 - dense_81_acc: 0.0000e+00 - dense_82_acc: 0.0000e+00 - dense_83_acc: 0.0000e+00 - dense_84_acc: 0.0000e+00 - dense_85_acc: 0.0000e+00 - dense_86_acc: 0.0000e+00 - dense_87_acc: 0.0000e+00 - dense_88_acc: 0.0000e+00 - dense_89_acc: 0.0000e+00 - dense_90_acc: 0.0000e+00 - dense_91_acc: 0.0000e+00 - dense_92_acc: 0.0000e+00 - dense_93_acc: 0.0000e+00 - dense_94_acc: 0.0000e+00 - dense_95_acc: 0.0000e+00 - dense_96_acc: 0.0000e+00 - dense_97_acc: 0.0000e+00 - dense_98_acc: 0.0000e+00 - dense_99_acc: 0.0000e+00 - dense_100_acc: 0.0000e+00 - dense_101_acc: 0.0000e+00 - dense_102_acc: 0.0000e+00 - dense_103_acc: 0.0000e+00 - dense_104_acc: 0.0000e+00 - dense_105_acc: 0.0000e+00 - dense_106_acc: 0.0000e+00 - dense_107_acc: 0.0000e+00 - dense_108_acc: 0.0000e+00\n",
      "Epoch 5/5\n",
      "100/100 [==============================] - 0s 425us/step - loss: 3.3300 - dense_69_loss: 0.0834 - dense_70_loss: 0.0866 - dense_71_loss: 0.0751 - dense_72_loss: 0.0696 - dense_73_loss: 0.0802 - dense_74_loss: 0.0699 - dense_75_loss: 0.0876 - dense_76_loss: 0.0766 - dense_77_loss: 0.0776 - dense_78_loss: 0.0881 - dense_79_loss: 0.0859 - dense_80_loss: 0.0954 - dense_81_loss: 0.0804 - dense_82_loss: 0.0826 - dense_83_loss: 0.0731 - dense_84_loss: 0.0750 - dense_85_loss: 0.0932 - dense_86_loss: 0.0739 - dense_87_loss: 0.0804 - dense_88_loss: 0.0863 - dense_89_loss: 0.0896 - dense_90_loss: 0.0785 - dense_91_loss: 0.0814 - dense_92_loss: 0.0808 - dense_93_loss: 0.0991 - dense_94_loss: 0.0787 - dense_95_loss: 0.0778 - dense_96_loss: 0.0920 - dense_97_loss: 0.0962 - dense_98_loss: 0.0752 - dense_99_loss: 0.0709 - dense_100_loss: 0.1019 - dense_101_loss: 0.0865 - dense_102_loss: 0.0965 - dense_103_loss: 0.0713 - dense_104_loss: 0.0802 - dense_105_loss: 0.0849 - dense_106_loss: 0.0815 - dense_107_loss: 0.0902 - dense_108_loss: 0.0959 - dense_69_acc: 0.0000e+00 - dense_70_acc: 0.0000e+00 - dense_71_acc: 0.0000e+00 - dense_72_acc: 0.0000e+00 - dense_73_acc: 0.0000e+00 - dense_74_acc: 0.0000e+00 - dense_75_acc: 0.0000e+00 - dense_76_acc: 0.0000e+00 - dense_77_acc: 0.0000e+00 - dense_78_acc: 0.0000e+00 - dense_79_acc: 0.0000e+00 - dense_80_acc: 0.0000e+00 - dense_81_acc: 0.0000e+00 - dense_82_acc: 0.0000e+00 - dense_83_acc: 0.0000e+00 - dense_84_acc: 0.0000e+00 - dense_85_acc: 0.0000e+00 - dense_86_acc: 0.0000e+00 - dense_87_acc: 0.0000e+00 - dense_88_acc: 0.0000e+00 - dense_89_acc: 0.0000e+00 - dense_90_acc: 0.0000e+00 - dense_91_acc: 0.0000e+00 - dense_92_acc: 0.0000e+00 - dense_93_acc: 0.0000e+00 - dense_94_acc: 0.0000e+00 - dense_95_acc: 0.0000e+00 - dense_96_acc: 0.0000e+00 - dense_97_acc: 0.0000e+00 - dense_98_acc: 0.0000e+00 - dense_99_acc: 0.0000e+00 - dense_100_acc: 0.0000e+00 - dense_101_acc: 0.0000e+00 - dense_102_acc: 0.0000e+00 - dense_103_acc: 0.0000e+00 - dense_104_acc: 0.0000e+00 - dense_105_acc: 0.0000e+00 - dense_106_acc: 0.0000e+00 - dense_107_acc: 0.0000e+00 - dense_108_acc: 0.0000e+00\n"
     ]
    },
    {
     "data": {
      "text/plain": [
       "<tensorflow.python.keras._impl.keras.callbacks.History at 0x28286ef0>"
      ]
     },
     "execution_count": 359,
     "metadata": {},
     "output_type": "execute_result"
    }
   ],
   "source": [
    "#Generate train data\n",
    "\n",
    "distances, datapoints, sensors = tdg.generateIO(100,SENSORS, DIMENSIONS,COORDINATE_SYSTEM)\n",
    "\n",
    "#Generate Model\n",
    "\n",
    "inp = keras.layers.Input((SENSORS,))\n",
    "layer = keras.layers.Dense(64, activation='relu')(inp)\n",
    "layer = keras.layers.Dense(64, activation='relu')(layer)\n",
    "outp = []\n",
    "for i in range(DIMENSIONS):\n",
    "    outp.append(keras.layers.Dense(1, activation='sigmoid')(layer)) \n",
    "model = keras.models.Model(inputs=inp, outputs=outp)\n",
    "model.compile(optimizer='adam', loss='mean_squared_error', metrics=['accuracy'])\n",
    "\n",
    "#Train Model\n",
    "model.fit(distances,datapoints,epochs =5)\n"
   ]
  },
  {
   "cell_type": "code",
   "execution_count": 356,
   "metadata": {},
   "outputs": [
    {
     "name": "stdout",
     "output_type": "stream",
     "text": [
      "Ergebnis: Soll -> Prediction\n",
      "dim0: 0.3699892729398613 -> 0.438535\n",
      "dim1: 0.20975983655788677 -> 0.516424\n",
      "dim2: 0.6155176895195962 -> 0.498469\n",
      "dim3: 0.39210431792877576 -> 0.507706\n"
     ]
    }
   ],
   "source": [
    "test_distance, test_datapoint, test_sensor = tdg.generateFromSensors(1, DIMENSIONS, COORDINATE_SYSTEM, sensors)      \n",
    "result = model.predict(test_distance)\n",
    "\n",
    "print(\"Ergebnis: Soll -> Prediction\")\n",
    "for i in range(DIMENSIONS):\n",
    "    print(\"dim\" + str(i) + \": \" + str(test_datapoint[i][0]) + \" -> \" + str(result[i][0][0]))\n"
   ]
  },
  {
   "cell_type": "code",
   "execution_count": 357,
   "metadata": {},
   "outputs": [
    {
     "name": "stdout",
     "output_type": "stream",
     "text": [
      "1000/1000 [==============================] - 0s 339us/step\n",
      "loss: 0.329667651176\n",
      "dense_63_loss: 0.0795709276199\n",
      "dense_64_loss: 0.08439644292\n",
      "dense_65_loss: 0.0832709821761\n",
      "dense_66_loss: 0.0824293016195\n",
      "dense_63_acc: 0.0\n",
      "dense_64_acc: 0.0\n",
      "dense_65_acc: 0.0\n",
      "dense_66_acc: 0.0\n",
      "relative loss: 32.9667651176%\n"
     ]
    }
   ],
   "source": [
    "test_distance, test_datapoint, test_sensor = tdg.generateFromSensors(1000, DIMENSIONS, COORDINATE_SYSTEM, sensors)      \n",
    "result = model.evaluate(test_distance, test_datapoint)\n",
    "\n",
    "for i in range(len(result)):\n",
    "    print(model.metrics_names[i] + \": \" + str(result[i]))\n",
    "    \n",
    "print(\"relative loss: \" + str(result[0]*100) + \"%\")"
   ]
  }
 ],
 "metadata": {
  "kernelspec": {
   "display_name": "Python 3",
   "language": "python",
   "name": "python3"
  },
  "language_info": {
   "codemirror_mode": {
    "name": "ipython",
    "version": 3
   },
   "file_extension": ".py",
   "mimetype": "text/x-python",
   "name": "python",
   "nbconvert_exporter": "python",
   "pygments_lexer": "ipython3",
   "version": "3.6.6"
  }
 },
 "nbformat": 4,
 "nbformat_minor": 2
}
