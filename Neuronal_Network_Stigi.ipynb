{
 "cells": [
  {
   "cell_type": "code",
   "execution_count": 6,
   "metadata": {},
   "outputs": [],
   "source": [
    "#imports\n",
    "import testdata.TestDataGenerator as tdg\n",
    "import tensorflow as tf\n",
    "from tensorflow import keras\n",
    "import random\n",
    "import numpy"
   ]
  },
  {
   "cell_type": "code",
   "execution_count": 7,
   "metadata": {},
   "outputs": [],
   "source": [
    "#definitions\n",
    "\n",
    "DIMENSIONS=4\n",
    "SENSORS= 4\n",
    "COORDINATE_SYSTEM = 1\n",
    "\n",
    "HIDDEN_NODES = [64,64]\n",
    "OUTPUT_NODES = DIMENSIONS"
   ]
  },
  {
   "cell_type": "code",
   "execution_count": 8,
   "metadata": {},
   "outputs": [
    {
     "name": "stdout",
     "output_type": "stream",
     "text": [
      "Epoch 1/5\n",
      "1000/1000 [==============================] - 1s 745us/step - loss: 0.3153 - dim0_loss: 0.0747 - dim1_loss: 0.0757 - dim2_loss: 0.0882 - dim3_loss: 0.0766\n",
      "Epoch 2/5\n",
      "1000/1000 [==============================] - 0s 80us/step - loss: 0.2659 - dim0_loss: 0.0556 - dim1_loss: 0.0621 - dim2_loss: 0.0820 - dim3_loss: 0.0661\n",
      "Epoch 3/5\n",
      "1000/1000 [==============================] - 0s 81us/step - loss: 0.2194 - dim0_loss: 0.0385 - dim1_loss: 0.0465 - dim2_loss: 0.0746 - dim3_loss: 0.0597\n",
      "Epoch 4/5\n",
      "1000/1000 [==============================] - 0s 80us/step - loss: 0.1880 - dim0_loss: 0.0296 - dim1_loss: 0.0354 - dim2_loss: 0.0675 - dim3_loss: 0.0554\n",
      "Epoch 5/5\n",
      "1000/1000 [==============================] - 0s 87us/step - loss: 0.1721 - dim0_loss: 0.0265 - dim1_loss: 0.0307 - dim2_loss: 0.0628 - dim3_loss: 0.0521\n"
     ]
    },
    {
     "data": {
      "text/plain": [
       "<tensorflow.python.keras.callbacks.History at 0x129d19e80>"
      ]
     },
     "execution_count": 8,
     "metadata": {},
     "output_type": "execute_result"
    }
   ],
   "source": [
    "#Generate train data\n",
    "\n",
    "distances, datapoints, sensors = tdg.generateIO(1000,SENSORS, DIMENSIONS,COORDINATE_SYSTEM)\n",
    "\n",
    "#Generate Model\n",
    "\n",
    "inp = keras.layers.Input((SENSORS,))\n",
    "layer = keras.layers.Dense(64, activation='relu')(inp)\n",
    "layer = keras.layers.Dense(64, activation='relu')(layer)\n",
    "outp = []\n",
    "for i in range(DIMENSIONS):\n",
    "    outp.append(keras.layers.Dense(1, activation='sigmoid', name=\"dim\"+str(i))(layer)) \n",
    "model = keras.models.Model(inputs=inp, outputs=outp)\n",
    "model.compile(optimizer='adam', loss='mean_squared_error')\n",
    "\n",
    "#Train Model\n",
    "model.fit(distances,datapoints,epochs =5)"
   ]
  },
  {
   "cell_type": "code",
   "execution_count": 9,
   "metadata": {},
   "outputs": [
    {
     "name": "stdout",
     "output_type": "stream",
     "text": [
      "Ergebnis: Soll -> Prediction\n",
      "dim0: 0.7963713836228328 -> 0.5879519\n",
      "dim1: 0.8221155639745988 -> 0.7768618\n",
      "dim2: 0.7736845439185552 -> 0.67515117\n",
      "dim3: 0.2405738611496291 -> 0.54424936\n"
     ]
    }
   ],
   "source": [
    "test_distance, test_datapoint, test_sensor = tdg.generateFromSensors(1, DIMENSIONS, COORDINATE_SYSTEM, sensors)      \n",
    "result = model.predict(test_distance)\n",
    "\n",
    "print(\"Ergebnis: Soll -> Prediction\")\n",
    "for i in range(DIMENSIONS):\n",
    "    print(\"dim\" + str(i) + \": \" + str(test_datapoint[i][0]) + \" -> \" + str(result[i][0][0]))\n"
   ]
  },
  {
   "cell_type": "code",
   "execution_count": 10,
   "metadata": {},
   "outputs": [
    {
     "name": "stdout",
     "output_type": "stream",
     "text": [
      "1000/1000 [==============================] - 0s 216us/step\n",
      "loss: 0.16979670417308806\n",
      "dim0_loss: 0.027613304004073143\n",
      "dim1_loss: 0.027900797456502913\n",
      "dim2_loss: 0.06021530473232269\n",
      "dim3_loss: 0.05406729805469513\n"
     ]
    }
   ],
   "source": [
    "test_distance, test_datapoint, test_sensor = tdg.generateFromSensors(1000, DIMENSIONS, COORDINATE_SYSTEM, sensors)      \n",
    "result = model.evaluate(test_distance, test_datapoint)\n",
    "\n",
    "for i in range(len(result)):\n",
    "    print(model.metrics_names[i] + \": \" + str(result[i]))\n",
    "    \n",
    "#print(\"relative loss: \" + str(result[0]*100) + \"%\")"
   ]
  }
 ],
 "metadata": {
  "kernelspec": {
   "display_name": "Python 3",
   "language": "python",
   "name": "python3"
  },
  "language_info": {
   "codemirror_mode": {
    "name": "ipython",
    "version": 3
   },
   "file_extension": ".py",
   "mimetype": "text/x-python",
   "name": "python",
   "nbconvert_exporter": "python",
   "pygments_lexer": "ipython3",
   "version": "3.7.0"
  }
 },
 "nbformat": 4,
 "nbformat_minor": 2
}
