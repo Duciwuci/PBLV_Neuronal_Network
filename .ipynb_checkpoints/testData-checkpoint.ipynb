{
 "cells": [
  {
   "cell_type": "code",
   "execution_count": 32,
   "metadata": {},
   "outputs": [],
   "source": [
    "#imports\n",
    "\n",
    "import tensorflow as tf\n",
    "from tensorflow import keras\n",
    "import testdata.TestDataGenerator as generator\n",
    "from tensorflow.keras.models import Model\n",
    "from tensorflow.keras.layers import Dense, Input\n",
    "from tensorflow.keras.utils import plot_model\n",
    "import random\n",
    "import numpy"
   ]
  },
  {
   "cell_type": "code",
   "execution_count": 33,
   "metadata": {},
   "outputs": [],
   "source": [
    "distances, datapoints, sensors = generator.generateIO(60000, 4, 2, 50)"
   ]
  },
  {
   "cell_type": "code",
   "execution_count": 34,
   "metadata": {},
   "outputs": [],
   "source": [
    "xcoords = []\n",
    "ycoords = []\n",
    "for i in range(60000):\n",
    "    xcoords.append(datapoints[i][0])\n",
    "    ycoords.append(datapoints[i][1])\n",
    "\n",
    "xcoords = numpy.array(xcoords)\n",
    "ycoords = numpy.array(ycoords)\n",
    "datapoints = numpy.array(datapoints)\n",
    "distances = numpy.array(distances)"
   ]
  },
  {
   "cell_type": "code",
   "execution_count": 35,
   "metadata": {},
   "outputs": [],
   "source": [
    "#Generate Model\n",
    "\n",
    "inp = Input((4,))\n",
    "\n",
    "#model = keras.Sequential()\n",
    "#model.add(Dense(INPUT_NODES))\n",
    "x = Dense(128, activation='relu')(inp)\n",
    "x = Dense(128, activation='relu')(x)\n",
    "x = Dense(128, activation='relu')(x)\n",
    "x = Dense(128, activation='relu')(x)\n",
    "#for nodes in HIDDEN_NODES:\n",
    "    #x = Dense(nodes, activation='relu')(x)\n",
    "    #model.add(Dense(nodes,activation=tf.nn.relu))\n",
    "xOut = Dense(1, activation='sigmoid', name='xOut')(x)\n",
    "yOut = Dense(1, activation='sigmoid', name='yOut')(x)\n",
    "model = Model(inputs=inp, outputs=[xOut, yOut])\n",
    "#model.add(Dense(OUTPUT_NODES))\n",
    "model.compile(optimizer='adam', loss='mean_squared_error', metrics=['accuracy'])\n"
   ]
  },
  {
   "cell_type": "code",
   "execution_count": 36,
   "metadata": {
    "scrolled": true
   },
   "outputs": [
    {
     "name": "stdout",
     "output_type": "stream",
     "text": [
      "Epoch 1/5\n",
      "60000/60000 [==============================] - 4s 65us/step - loss: 1576.8096 - xOut_loss: 790.3669 - yOut_loss: 786.4427 - xOut_acc: 0.0000e+00 - yOut_acc: 0.0000e+00\n",
      "Epoch 2/5\n",
      "60000/60000 [==============================] - 3s 55us/step - loss: 1576.8006 - xOut_loss: 790.3622 - yOut_loss: 786.4384 - xOut_acc: 0.0000e+00 - yOut_acc: 0.0000e+00\n",
      "Epoch 3/5\n",
      "60000/60000 [==============================] - 3s 55us/step - loss: 1576.8006 - xOut_loss: 790.3622 - yOut_loss: 786.4384 - xOut_acc: 0.0000e+00 - yOut_acc: 0.0000e+00\n",
      "Epoch 4/5\n",
      "60000/60000 [==============================] - 3s 56us/step - loss: 1576.8006 - xOut_loss: 790.3622 - yOut_loss: 786.4384 - xOut_acc: 0.0000e+00 - yOut_acc: 0.0000e+00 0s - loss: 1578.0996 - xOut_loss: 790.4431 - yOut_loss: 787.6565 - xOut_acc: 0.0000e+00 - \n",
      "Epoch 5/5\n",
      "60000/60000 [==============================] - 3s 56us/step - loss: 1576.8006 - xOut_loss: 790.3622 - yOut_loss: 786.4384 - xOut_acc: 0.0000e+00 - yOut_acc: 0.0000e+00\n"
     ]
    },
    {
     "data": {
      "text/plain": [
       "<tensorflow.python.keras.callbacks.History at 0x124c5b898>"
      ]
     },
     "execution_count": 36,
     "metadata": {},
     "output_type": "execute_result"
    }
   ],
   "source": [
    "model.fit(distances,[xcoords, ycoords],epochs=5)"
   ]
  },
  {
   "cell_type": "code",
   "execution_count": 37,
   "metadata": {},
   "outputs": [
    {
     "name": "stdout",
     "output_type": "stream",
     "text": [
      "[[1.]] [[1.]]\n",
      "[12.50888039 48.24963347]\n"
     ]
    }
   ],
   "source": [
    "result = model.predict(numpy.array([distances[0]]))\n",
    "print(result[0], result[1])\n",
    "print(datapoints[0])"
   ]
  },
  {
   "cell_type": "code",
   "execution_count": null,
   "metadata": {},
   "outputs": [],
   "source": []
  }
 ],
 "metadata": {
  "kernelspec": {
   "display_name": "Python 3",
   "language": "python",
   "name": "python3"
  },
  "language_info": {
   "codemirror_mode": {
    "name": "ipython",
    "version": 3
   },
   "file_extension": ".py",
   "mimetype": "text/x-python",
   "name": "python",
   "nbconvert_exporter": "python",
   "pygments_lexer": "ipython3",
   "version": "3.7.0"
  }
 },
 "nbformat": 4,
 "nbformat_minor": 2
}
