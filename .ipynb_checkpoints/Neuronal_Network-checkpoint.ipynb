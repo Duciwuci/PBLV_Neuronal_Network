{
 "cells": [
  {
   "cell_type": "code",
   "execution_count": null,
   "metadata": {},
   "outputs": [],
   "source": [
    "#imports\n",
    "import testdata.TestDataGenerator as tdg\n",
    "import tensorflow as tf\n",
    "from tensorflow import keras\n",
    "import matplotlib.pyplot as plt\n",
    "import random\n",
    "import numpy"
   ]
  },
  {
   "cell_type": "code",
   "execution_count": null,
   "metadata": {},
   "outputs": [],
   "source": [
    "#definitions\n",
    "\n",
    "DIMENSIONS=2\n",
    "SENSORS= 4\n",
    "\n",
    "COORDINATE_SYSTEM = 1\n",
    "\n",
    "INPUT_NODES = SENSORS\n",
    "HIDDEN_NODES = [64,64]\n",
    "OUTPUT_NODES = DIMENSIONS"
   ]
  },
  {
   "cell_type": "code",
   "execution_count": null,
   "metadata": {},
   "outputs": [],
   "source": [
    "#Generate train data\n",
    "\n",
    "distances, datapoints, sensors = tdg.generateStatic4PointIO(100,2,COORDINATE_SYSTEM)"
   ]
  },
  {
   "cell_type": "code",
   "execution_count": null,
   "metadata": {},
   "outputs": [],
   "source": [
    "#Generate Model\n",
    "\n",
    "inp = keras.layers.Input((SENSORS,))\n",
    "\n",
    "x = keras.layers.Dense(64, activation='relu')(inp)\n",
    "x = keras.layers.Dense(64, activation='relu')(x)\n",
    "xOut = keras.layers.Dense(1, activation='relu', name='xOut')(x)\n",
    "yOut = keras.layers.Dense(1, activation='relu', name='yOut')(x)\n",
    "model = keras.models.Model(inputs=inp, outputs=[xOut, yOut])\n",
    "\n",
    "model.compile(optimizer='adam', loss='mean_squared_error', metrics=['accuracy'])"
   ]
  },
  {
   "cell_type": "code",
   "execution_count": null,
   "metadata": {},
   "outputs": [],
   "source": [
    "hist = model.fit(distances,datapoints,epochs =25)\n",
    "plt.title('loss function')\n",
    "plt.xlabel('epochs')\n",
    "plt.ylabel('loss')\n",
    "plt.plot(hist.history['loss'])\n",
    "plt.plot(hist.history['yOut_loss'])\n",
    "plt.plot(hist.history['xOut_loss'])\n",
    "plt.legend(['loss', 'y-Loss', 'x-Loss'], loc='upper left')"
   ]
  },
  {
   "cell_type": "code",
   "execution_count": null,
   "metadata": {},
   "outputs": [],
   "source": [
    "result = model.predict(distances)\n",
    "\n",
    "plt.ylabel('value')\n",
    "plt.xlabel('dataset')\n",
    "plt.title('y-prediction')\n",
    "plt.plot(datapoints[1])   \n",
    "plt.plot(result[1])\n",
    "plt.legend(['testdata', 'neuronal prediction'])"
   ]
  },
  {
   "cell_type": "code",
   "execution_count": null,
   "metadata": {},
   "outputs": [],
   "source": []
  },
  {
   "cell_type": "code",
   "execution_count": null,
   "metadata": {},
   "outputs": [],
   "source": [
    "plt.title('x-prediction')\n",
    "plt.ylabel('value')\n",
    "plt.xlabel('dataset')\n",
    "plt.plot(datapoints[0])   \n",
    "plt.plot(result[0])\n",
    "plt.legend(['testdata', 'neuronal prediction'])"
   ]
  },
  {
   "cell_type": "code",
   "execution_count": null,
   "metadata": {},
   "outputs": [],
   "source": []
  },
  {
   "cell_type": "code",
   "execution_count": null,
   "metadata": {},
   "outputs": [],
   "source": [
    "test_distance, test_datapoint, test_sensor = tdg.generateStatic4PointIO(100,2,COORDINATE_SYSTEM)   \n",
    "    \n",
    "testResult = model.predict(test_distance)\n",
    "\n",
    "plt.ylabel('value')\n",
    "plt.xlabel('dataset')\n",
    "plt.title('y-prediction with new generated data')\n",
    "plt.plot(test_datapoint[1])   \n",
    "plt.plot(testResult[1])\n",
    "plt.legend(['testdata', 'neuronal prediction'])"
   ]
  },
  {
   "cell_type": "code",
   "execution_count": null,
   "metadata": {},
   "outputs": [],
   "source": [
    "plt.title('x-prediction with new generated data')\n",
    "plt.ylabel('value')\n",
    "plt.xlabel('dataset')\n",
    "plt.plot(test_datapoint[0])   \n",
    "plt.plot(testResult[0])\n",
    "plt.legend(['testdata', 'neuronal prediction'])"
   ]
  },
  {
   "cell_type": "code",
   "execution_count": null,
   "metadata": {},
   "outputs": [],
   "source": [
    "evaluation = model.evaluate(distances,test_datapoint)\n",
    " \n",
    "print(evaluation[0])"
   ]
  },
  {
   "cell_type": "code",
   "execution_count": null,
   "metadata": {},
   "outputs": [],
   "source": [
    "plt.plot(test_datapoint[0], test_datapoint[1], 'bo')\n",
    "plt.plot(testResult[0], testResult[1], 'ro')\n",
    "plt.legend(['testdata', 'prediction'])"
   ]
  },
  {
   "cell_type": "code",
   "execution_count": null,
   "metadata": {},
   "outputs": [],
   "source": [
    "plt.title('x-prediction with new generated data')\n",
    "plt.ylabel('prediction')\n",
    "plt.xlabel('value')\n",
    "plt.plot([0,1])\n",
    "plt.plot(test_datapoint[0], testResult[0], 'ro')"
   ]
  },
  {
   "cell_type": "code",
   "execution_count": null,
   "metadata": {},
   "outputs": [],
   "source": [
    "plt.title('y-prediction with new generated data')\n",
    "plt.ylabel('prediction')\n",
    "plt.xlabel('value')\n",
    "plt.plot([0,1])\n",
    "plt.plot(test_datapoint[1], testResult[1], 'ro')"
   ]
  },
  {
   "cell_type": "code",
   "execution_count": null,
   "metadata": {},
   "outputs": [],
   "source": []
  }
 ],
 "metadata": {
  "kernelspec": {
   "display_name": "Python 3",
   "language": "python",
   "name": "python3"
  },
  "language_info": {
   "codemirror_mode": {
    "name": "ipython",
    "version": 3
   },
   "file_extension": ".py",
   "mimetype": "text/x-python",
   "name": "python",
   "nbconvert_exporter": "python",
   "pygments_lexer": "ipython3"
  }
 },
 "nbformat": 4,
 "nbformat_minor": 2
}
