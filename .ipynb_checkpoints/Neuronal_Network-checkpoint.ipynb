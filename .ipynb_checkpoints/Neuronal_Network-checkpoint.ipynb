{
 "cells": [
  {
   "cell_type": "code",
   "execution_count": 58,
   "metadata": {
    "collapsed": true
   },
   "outputs": [],
   "source": [
    "#imports\n",
    "import testdata.TestDataGenerator as tdg\n",
    "import tensorflow as tf\n",
    "from tensorflow import keras\n",
    "import random\n",
    "import numpy"
   ]
  },
  {
   "cell_type": "code",
   "execution_count": 69,
   "metadata": {
    "collapsed": true
   },
   "outputs": [],
   "source": [
    "#definitions\n",
    "\n",
    "DIMENSIONS=2\n",
    "SENSORS= 4\n",
    "\n",
    "COORDINATE_SYSTEM = 1\n",
    "\n",
    "INPUT_NODES = SENSORS\n",
    "HIDDEN_NODES = [64,64]\n",
    "OUTPUT_NODES = DIMENSIONS\n",
    "\n"
   ]
  },
  {
   "cell_type": "code",
   "execution_count": 70,
   "metadata": {
    "collapsed": true
   },
   "outputs": [],
   "source": [
    "#Generate train data\n",
    "\n",
    "distances, datapoints, sensors = tdg.generateStatic4PointIO(1000,2,COORDINATE_SYSTEM)\n",
    "\n",
    "\n",
    "xOut_Train = []\n",
    "yOut_Train = []\n",
    "for i in range(len(datapoints)):\n",
    "    xOut_Train.append(numpy.array(datapoints[i][0]))\n",
    "    yOut_Train.append(numpy.array(datapoints[i][1]))\n"
   ]
  },
  {
   "cell_type": "code",
   "execution_count": 71,
   "metadata": {
    "collapsed": true
   },
   "outputs": [],
   "source": [
    "#Generate Model\n",
    "\n",
    "inp = keras.layers.Input((SENSORS,))\n",
    "\n",
    "x = keras.layers.Dense(64, activation='relu')(inp)\n",
    "x = keras.layers.Dense(64, activation='relu')(x)\n",
    "xOut = keras.layers.Dense(1, activation='sigmoid', name='xOut')(x)\n",
    "yOut = keras.layers.Dense(1, activation='sigmoid', name='yOut')(x)\n",
    "model = keras.models.Model(inputs=inp, outputs=[xOut, yOut])\n",
    "\n",
    "model.compile(optimizer='adam', loss='mean_squared_error', metrics=['accuracy'])\n"
   ]
  },
  {
   "cell_type": "code",
   "execution_count": 72,
   "metadata": {
    "scrolled": true
   },
   "outputs": [
    {
     "name": "stdout",
     "output_type": "stream",
     "text": [
      "Epoch 1/5\n",
      "1000/1000 [==============================] - 0s 317us/step - loss: 0.1335 - xOut_loss: 0.0679 - yOut_loss: 0.0656 - xOut_acc: 0.0000e+00 - yOut_acc: 0.0000e+00\n",
      "Epoch 2/5\n",
      "1000/1000 [==============================] - 0s 18us/step - loss: 0.0559 - xOut_loss: 0.0297 - yOut_loss: 0.0263 - xOut_acc: 0.0000e+00 - yOut_acc: 0.0000e+00\n",
      "Epoch 3/5\n",
      "1000/1000 [==============================] - 0s 30us/step - loss: 0.0111 - xOut_loss: 0.0066 - yOut_loss: 0.0045 - xOut_acc: 0.0000e+00 - yOut_acc: 0.0000e+00\n",
      "Epoch 4/5\n",
      "1000/1000 [==============================] - 0s 35us/step - loss: 0.0033 - xOut_loss: 0.0017 - yOut_loss: 0.0016 - xOut_acc: 0.0000e+00 - yOut_acc: 0.0000e+00\n",
      "Epoch 5/5\n",
      "1000/1000 [==============================] - 0s 35us/step - loss: 0.0028 - xOut_loss: 0.0014 - yOut_loss: 0.0014 - xOut_acc: 0.0000e+00 - yOut_acc: 0.0000e+00\n"
     ]
    },
    {
     "data": {
      "text/plain": [
       "<tensorflow.python.keras._impl.keras.callbacks.History at 0x11afb780>"
      ]
     },
     "execution_count": 72,
     "metadata": {},
     "output_type": "execute_result"
    }
   ],
   "source": [
    "model.fit(distances,[xOut_Train, yOut_Train,],epochs =5)"
   ]
  },
  {
   "cell_type": "code",
   "execution_count": 73,
   "metadata": {},
   "outputs": [
    {
     "name": "stdout",
     "output_type": "stream",
     "text": [
      "[ 0.19491376] [ 0.66429174]\n",
      "0.2156916299582906 0.6270581935757913\n"
     ]
    }
   ],
   "source": [
    "result = model.predict(distances)\n",
    "\n",
    "print(result[0][0], result[1][0])\n",
    "print(xOut_Train[0], yOut_Train[0])"
   ]
  },
  {
   "cell_type": "code",
   "execution_count": 78,
   "metadata": {},
   "outputs": [
    {
     "name": "stdout",
     "output_type": "stream",
     "text": [
      "[array([[ 0.60135442]], dtype=float32), array([[ 0.20089063]], dtype=float32)]\n",
      "[array(0.5775950099670035)] [array(0.22713690881930748)]\n"
     ]
    }
   ],
   "source": [
    "\n",
    "\n",
    "test_distance, test_datapoint, test_sensor = tdg.generateStatic4PointIO(1,2,COORDINATE_SYSTEM)\n",
    "xOut_Test = []\n",
    "yOut_Test = []\n",
    "for i in range(len(test_datapoint)):\n",
    "    xOut_Test.append(numpy.array(test_datapoint[i][0]))\n",
    "    yOut_Test.append(numpy.array(test_datapoint[i][1]))\n",
    "    \n",
    "    \n",
    "result = model.predict(test_distance)\n",
    "\n",
    "print(result)\n",
    "print(xOut_Test, yOut_Test)"
   ]
  },
  {
   "cell_type": "code",
   "execution_count": null,
   "metadata": {
    "collapsed": true
   },
   "outputs": [],
   "source": []
  }
 ],
 "metadata": {
  "kernelspec": {
   "display_name": "Python 3",
   "language": "python",
   "name": "python3"
  },
  "language_info": {
   "codemirror_mode": {
    "name": "ipython",
    "version": 3
   },
   "file_extension": ".py",
   "mimetype": "text/x-python",
   "name": "python",
   "nbconvert_exporter": "python",
   "pygments_lexer": "ipython3",
   "version": "3.6.6"
  }
 },
 "nbformat": 4,
 "nbformat_minor": 2
}
