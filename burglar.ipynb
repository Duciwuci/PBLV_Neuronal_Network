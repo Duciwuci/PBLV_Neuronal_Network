{
 "cells": [
  {
   "cell_type": "code",
   "execution_count": 276,
   "metadata": {},
   "outputs": [],
   "source": [
    "#imports\n",
    "\n",
    "import tensorflow as tf\n",
    "from tensorflow import keras\n",
    "from tensorflow.keras.models import Model\n",
    "from tensorflow.keras.layers import Dense, Input\n",
    "from tensorflow.keras.utils import plot_model\n",
    "import random\n",
    "import numpy"
   ]
  },
  {
   "cell_type": "code",
   "execution_count": 277,
   "metadata": {},
   "outputs": [],
   "source": [
    "#definitions\n",
    "\n",
    "DIMENSIONS=2\n",
    "SENSORS=[[0.2,0.3],[0.2,0.4],[0.5,0.3],[0.4,0.3]]\n",
    "\n",
    "INPUT_NODES = len(SENSORS)\n",
    "HIDDEN_NODES = [64,64]\n",
    "OUTPUT_NODES = DIMENSIONS\n",
    "\n"
   ]
  },
  {
   "cell_type": "code",
   "execution_count": 278,
   "metadata": {},
   "outputs": [],
   "source": [
    "#Generate train data\n",
    "input_data = []\n",
    "xOutput_data = []\n",
    "yOutput_data = []\n",
    "for i in range (10000):\n",
    "    x = random.random()\n",
    "    y = random.random()\n",
    "    xOutput_data.append(numpy.array(x))\n",
    "    yOutput_data.append(numpy.array(y))\n",
    "    input_data.append(numpy.array([\n",
    "        ((x-SENSORS[0][0])**2 + (y-SENSORS[0][1])**2)**0.5,\n",
    "        ((x-SENSORS[1][0])**2 + (y-SENSORS[1][1])**2)**0.5,\n",
    "        ((x-SENSORS[2][0])**2 + (y-SENSORS[2][1])**2)**0.5,\n",
    "        ((x-SENSORS[3][0])**2 + (y-SENSORS[3][1])**2)**0.5,\n",
    "    ]))\n",
    "input_data = numpy.array(input_data)\n",
    "output_data = numpy.array(output_data)"
   ]
  },
  {
   "cell_type": "code",
   "execution_count": 279,
   "metadata": {},
   "outputs": [],
   "source": [
    "#Generate Model\n",
    "\n",
    "inp = Input((INPUT_NODES,))\n",
    "\n",
    "#model = keras.Sequential()\n",
    "#model.add(Dense(INPUT_NODES))\n",
    "x = Dense(128, activation='relu')(inp)\n",
    "x = Dense(128, activation='relu')(x)\n",
    "x = Dense(128, activation='relu')(x)\n",
    "x = Dense(128, activation='relu')(x)\n",
    "#for nodes in HIDDEN_NODES:\n",
    "    #x = Dense(nodes, activation='relu')(x)\n",
    "    #model.add(Dense(nodes,activation=tf.nn.relu))\n",
    "xOut = Dense(1, activation='sigmoid', name='xOut')(x)\n",
    "yOut = Dense(1, activation='sigmoid', name='yOut')(x)\n",
    "model = Model(inputs=inp, outputs=[xOut, yOut])\n",
    "#model.add(Dense(OUTPUT_NODES))\n",
    "model.compile(optimizer='adam', loss='mean_squared_error', metrics=['accuracy'])\n"
   ]
  },
  {
   "cell_type": "code",
   "execution_count": 280,
   "metadata": {
    "scrolled": true
   },
   "outputs": [
    {
     "name": "stdout",
     "output_type": "stream",
     "text": [
      "Epoch 1/50\n",
      "10000/10000 [==============================] - 7s 673us/step - loss: 0.0223 - xOut_loss: 0.0076 - yOut_loss: 0.0148 - xOut_acc: 0.0000e+00 - yOut_acc: 0.0000e+00\n",
      "Epoch 2/50\n",
      "10000/10000 [==============================] - 3s 259us/step - loss: 0.0012 - xOut_loss: 4.3037e-04 - yOut_loss: 8.0140e-04 - xOut_acc: 0.0000e+00 - yOut_acc: 0.0000e+00\n",
      "Epoch 3/50\n",
      "10000/10000 [==============================] - 3s 251us/step - loss: 5.1540e-04 - xOut_loss: 1.8604e-04 - yOut_loss: 3.2937e-04 - xOut_acc: 0.0000e+00 - yOut_acc: 0.0000e+00\n",
      "Epoch 4/50\n",
      "10000/10000 [==============================] - 3s 255us/step - loss: 5.2558e-04 - xOut_loss: 1.4076e-04 - yOut_loss: 3.8483e-04 - xOut_acc: 0.0000e+00 - yOut_acc: 0.0000e+00\n",
      "Epoch 5/50\n",
      "10000/10000 [==============================] - 3s 252us/step - loss: 3.0860e-04 - xOut_loss: 9.5225e-05 - yOut_loss: 2.1338e-04 - xOut_acc: 0.0000e+00 - yOut_acc: 0.0000e+00\n",
      "Epoch 6/50\n",
      "10000/10000 [==============================] - 3s 256us/step - loss: 3.5651e-04 - xOut_loss: 1.0516e-04 - yOut_loss: 2.5134e-04 - xOut_acc: 0.0000e+00 - yOut_acc: 0.0000e+00\n",
      "Epoch 7/50\n",
      "10000/10000 [==============================] - 3s 257us/step - loss: 1.6524e-04 - xOut_loss: 5.5046e-05 - yOut_loss: 1.1019e-04 - xOut_acc: 0.0000e+00 - yOut_acc: 0.0000e+00\n",
      "Epoch 8/50\n",
      "10000/10000 [==============================] - 3s 262us/step - loss: 7.2885e-04 - xOut_loss: 1.4947e-04 - yOut_loss: 5.7938e-04 - xOut_acc: 0.0000e+00 - yOut_acc: 0.0000e+00\n",
      "Epoch 9/50\n",
      "10000/10000 [==============================] - 3s 259us/step - loss: 1.3897e-04 - xOut_loss: 4.2250e-05 - yOut_loss: 9.6718e-05 - xOut_acc: 0.0000e+00 - yOut_acc: 0.0000e+00\n",
      "Epoch 10/50\n",
      "10000/10000 [==============================] - 3s 256us/step - loss: 1.3185e-04 - xOut_loss: 3.8462e-05 - yOut_loss: 9.3390e-05 - xOut_acc: 0.0000e+00 - yOut_acc: 0.0000e+00\n",
      "Epoch 11/50\n",
      "10000/10000 [==============================] - 3s 253us/step - loss: 1.3810e-04 - xOut_loss: 4.0927e-05 - yOut_loss: 9.7171e-05 - xOut_acc: 0.0000e+00 - yOut_acc: 0.0000e+00\n",
      "Epoch 12/50\n",
      "10000/10000 [==============================] - 3s 255us/step - loss: 1.4576e-04 - xOut_loss: 3.9321e-05 - yOut_loss: 1.0644e-04 - xOut_acc: 0.0000e+00 - yOut_acc: 0.0000e+00\n",
      "Epoch 13/50\n",
      "10000/10000 [==============================] - 3s 255us/step - loss: 1.1403e-04 - xOut_loss: 3.2368e-05 - yOut_loss: 8.1659e-05 - xOut_acc: 0.0000e+00 - yOut_acc: 0.0000e+00\n",
      "Epoch 14/50\n",
      "10000/10000 [==============================] - 3s 252us/step - loss: 3.1208e-04 - xOut_loss: 7.0594e-05 - yOut_loss: 2.4148e-04 - xOut_acc: 0.0000e+00 - yOut_acc: 0.0000e+00\n",
      "Epoch 15/50\n",
      "10000/10000 [==============================] - 3s 257us/step - loss: 1.6836e-04 - xOut_loss: 4.6513e-05 - yOut_loss: 1.2185e-04 - xOut_acc: 0.0000e+00 - yOut_acc: 0.0000e+00\n",
      "Epoch 16/50\n",
      "10000/10000 [==============================] - 3s 256us/step - loss: 1.1148e-04 - xOut_loss: 2.7896e-05 - yOut_loss: 8.3587e-05 - xOut_acc: 0.0000e+00 - yOut_acc: 0.0000e+00\n",
      "Epoch 17/50\n",
      "10000/10000 [==============================] - 3s 252us/step - loss: 1.2088e-04 - xOut_loss: 2.4111e-05 - yOut_loss: 9.6772e-05 - xOut_acc: 0.0000e+00 - yOut_acc: 0.0000e+00\n",
      "Epoch 18/50\n",
      "10000/10000 [==============================] - 3s 250us/step - loss: 1.6667e-04 - xOut_loss: 4.2933e-05 - yOut_loss: 1.2373e-04 - xOut_acc: 0.0000e+00 - yOut_acc: 0.0000e+00\n",
      "Epoch 19/50\n",
      "10000/10000 [==============================] - 3s 256us/step - loss: 6.9796e-05 - xOut_loss: 1.9753e-05 - yOut_loss: 5.0043e-05 - xOut_acc: 0.0000e+00 - yOut_acc: 0.0000e+00\n",
      "Epoch 20/50\n",
      "10000/10000 [==============================] - 3s 253us/step - loss: 5.6527e-05 - xOut_loss: 1.7234e-05 - yOut_loss: 3.9294e-05 - xOut_acc: 0.0000e+00 - yOut_acc: 0.0000e+00\n",
      "Epoch 21/50\n",
      "10000/10000 [==============================] - 3s 255us/step - loss: 5.6193e-04 - xOut_loss: 1.7117e-04 - yOut_loss: 3.9076e-04 - xOut_acc: 0.0000e+00 - yOut_acc: 0.0000e+00\n",
      "Epoch 22/50\n",
      "10000/10000 [==============================] - 3s 252us/step - loss: 5.4799e-05 - xOut_loss: 1.9808e-05 - yOut_loss: 3.4991e-05 - xOut_acc: 0.0000e+00 - yOut_acc: 0.0000e+00\n",
      "Epoch 23/50\n",
      "10000/10000 [==============================] - 3s 253us/step - loss: 3.8584e-05 - xOut_loss: 1.3961e-05 - yOut_loss: 2.4623e-05 - xOut_acc: 0.0000e+00 - yOut_acc: 0.0000e+00\n",
      "Epoch 24/50\n",
      "10000/10000 [==============================] - 3s 255us/step - loss: 4.3333e-05 - xOut_loss: 1.4823e-05 - yOut_loss: 2.8510e-05 - xOut_acc: 0.0000e+00 - yOut_acc: 0.0000e+00\n",
      "Epoch 25/50\n",
      "10000/10000 [==============================] - 3s 272us/step - loss: 1.6477e-04 - xOut_loss: 3.5274e-05 - yOut_loss: 1.2950e-04 - xOut_acc: 0.0000e+00 - yOut_acc: 0.0000e+00\n",
      "Epoch 26/50\n",
      "10000/10000 [==============================] - 3s 268us/step - loss: 4.9486e-04 - xOut_loss: 1.1558e-04 - yOut_loss: 3.7929e-04 - xOut_acc: 0.0000e+00 - yOut_acc: 0.0000e+00\n",
      "Epoch 27/50\n",
      "10000/10000 [==============================] - 3s 266us/step - loss: 4.0094e-05 - xOut_loss: 1.3665e-05 - yOut_loss: 2.6429e-05 - xOut_acc: 0.0000e+00 - yOut_acc: 0.0000e+00\n",
      "Epoch 28/50\n",
      "10000/10000 [==============================] - 3s 276us/step - loss: 4.5163e-05 - xOut_loss: 1.4009e-05 - yOut_loss: 3.1154e-05 - xOut_acc: 0.0000e+00 - yOut_acc: 0.0000e+00\n",
      "Epoch 29/50\n",
      "10000/10000 [==============================] - 3s 269us/step - loss: 5.8340e-05 - xOut_loss: 1.5373e-05 - yOut_loss: 4.2967e-05 - xOut_acc: 0.0000e+00 - yOut_acc: 0.0000e+00\n",
      "Epoch 30/50\n",
      "10000/10000 [==============================] - 3s 261us/step - loss: 8.4199e-05 - xOut_loss: 2.7903e-05 - yOut_loss: 5.6296e-05 - xOut_acc: 0.0000e+00 - yOut_acc: 0.0000e+00\n",
      "Epoch 31/50\n",
      "10000/10000 [==============================] - 3s 268us/step - loss: 7.2870e-05 - xOut_loss: 2.2400e-05 - yOut_loss: 5.0470e-05 - xOut_acc: 0.0000e+00 - yOut_acc: 0.0000e+00\n",
      "Epoch 32/50\n",
      "10000/10000 [==============================] - 3s 275us/step - loss: 2.5760e-04 - xOut_loss: 7.9766e-05 - yOut_loss: 1.7783e-04 - xOut_acc: 0.0000e+00 - yOut_acc: 0.0000e+00\n",
      "Epoch 33/50\n",
      "10000/10000 [==============================] - 3s 263us/step - loss: 3.1119e-05 - xOut_loss: 1.2032e-05 - yOut_loss: 1.9087e-05 - xOut_acc: 0.0000e+00 - yOut_acc: 0.0000e+00\n",
      "Epoch 34/50\n",
      "10000/10000 [==============================] - 3s 278us/step - loss: 2.3687e-05 - xOut_loss: 8.3869e-06 - yOut_loss: 1.5300e-05 - xOut_acc: 0.0000e+00 - yOut_acc: 0.0000e+00\n",
      "Epoch 35/50\n",
      "10000/10000 [==============================] - 3s 282us/step - loss: 1.2772e-04 - xOut_loss: 3.5761e-05 - yOut_loss: 9.1954e-05 - xOut_acc: 0.0000e+00 - yOut_acc: 0.0000e+00\n",
      "Epoch 36/50\n",
      "10000/10000 [==============================] - 3s 279us/step - loss: 3.5252e-05 - xOut_loss: 1.1166e-05 - yOut_loss: 2.4087e-05 - xOut_acc: 0.0000e+00 - yOut_acc: 0.0000e+00\n",
      "Epoch 37/50\n",
      "10000/10000 [==============================] - 3s 272us/step - loss: 2.6331e-04 - xOut_loss: 9.7317e-05 - yOut_loss: 1.6599e-04 - xOut_acc: 0.0000e+00 - yOut_acc: 0.0000e+00\n",
      "Epoch 38/50\n",
      "10000/10000 [==============================] - 3s 272us/step - loss: 8.2351e-05 - xOut_loss: 1.9483e-05 - yOut_loss: 6.2869e-05 - xOut_acc: 0.0000e+00 - yOut_acc: 0.0000e+00\n",
      "Epoch 39/50\n",
      "10000/10000 [==============================] - 3s 269us/step - loss: 2.4979e-05 - xOut_loss: 8.1707e-06 - yOut_loss: 1.6808e-05 - xOut_acc: 0.0000e+00 - yOut_acc: 0.0000e+00\n",
      "Epoch 40/50\n",
      "10000/10000 [==============================] - 3s 270us/step - loss: 2.3539e-04 - xOut_loss: 5.6074e-05 - yOut_loss: 1.7931e-04 - xOut_acc: 0.0000e+00 - yOut_acc: 0.0000e+00\n",
      "Epoch 41/50\n",
      "10000/10000 [==============================] - 3s 260us/step - loss: 2.3799e-05 - xOut_loss: 7.1751e-06 - yOut_loss: 1.6624e-05 - xOut_acc: 0.0000e+00 - yOut_acc: 0.0000e+00\n",
      "Epoch 42/50\n",
      "10000/10000 [==============================] - 3s 264us/step - loss: 4.4978e-05 - xOut_loss: 1.2232e-05 - yOut_loss: 3.2746e-05 - xOut_acc: 0.0000e+00 - yOut_acc: 0.0000e+00\n",
      "Epoch 43/50\n",
      "10000/10000 [==============================] - 3s 260us/step - loss: 2.3087e-05 - xOut_loss: 7.4955e-06 - yOut_loss: 1.5592e-05 - xOut_acc: 0.0000e+00 - yOut_acc: 0.0000e+00\n",
      "Epoch 44/50\n",
      "10000/10000 [==============================] - 3s 264us/step - loss: 1.5367e-04 - xOut_loss: 6.2948e-05 - yOut_loss: 9.0723e-05 - xOut_acc: 0.0000e+00 - yOut_acc: 0.0000e+00\n",
      "Epoch 45/50\n"
     ]
    },
    {
     "name": "stdout",
     "output_type": "stream",
     "text": [
      "10000/10000 [==============================] - 3s 262us/step - loss: 7.9497e-05 - xOut_loss: 1.7523e-05 - yOut_loss: 6.1974e-05 - xOut_acc: 0.0000e+00 - yOut_acc: 0.0000e+00\n",
      "Epoch 46/50\n",
      "10000/10000 [==============================] - 3s 264us/step - loss: 8.4755e-05 - xOut_loss: 3.2386e-05 - yOut_loss: 5.2369e-05 - xOut_acc: 0.0000e+00 - yOut_acc: 0.0000e+00\n",
      "Epoch 47/50\n",
      "10000/10000 [==============================] - 3s 279us/step - loss: 9.3000e-05 - xOut_loss: 2.2815e-05 - yOut_loss: 7.0184e-05 - xOut_acc: 0.0000e+00 - yOut_acc: 0.0000e+00\n",
      "Epoch 48/50\n",
      "10000/10000 [==============================] - 3s 262us/step - loss: 3.2488e-05 - xOut_loss: 1.1079e-05 - yOut_loss: 2.1409e-05 - xOut_acc: 0.0000e+00 - yOut_acc: 0.0000e+00\n",
      "Epoch 49/50\n",
      "10000/10000 [==============================] - 3s 270us/step - loss: 2.2395e-04 - xOut_loss: 4.7661e-05 - yOut_loss: 1.7629e-04 - xOut_acc: 0.0000e+00 - yOut_acc: 0.0000e+00\n",
      "Epoch 50/50\n",
      "10000/10000 [==============================] - 3s 261us/step - loss: 1.9664e-05 - xOut_loss: 8.4210e-06 - yOut_loss: 1.1243e-05 - xOut_acc: 0.0000e+00 - yOut_acc: 0.0000e+00\n"
     ]
    },
    {
     "data": {
      "text/plain": [
       "<tensorflow.python.keras.callbacks.History at 0x7fb82e6ffda0>"
      ]
     },
     "execution_count": 280,
     "metadata": {},
     "output_type": "execute_result"
    }
   ],
   "source": [
    "model.fit(input_data,[xOutput_data, yOutput_data,],epochs =50)"
   ]
  },
  {
   "cell_type": "code",
   "execution_count": 284,
   "metadata": {},
   "outputs": [
    {
     "name": "stdout",
     "output_type": "stream",
     "text": [
      "<class 'numpy.ndarray'>\n",
      "[[0.47884171 0.5328091  0.2550214  0.31589092]\n",
      " [0.47721849 0.38539423 0.64771109 0.57930901]\n",
      " [0.75956301 0.8035479  0.4966517  0.58030503]\n",
      " ...\n",
      " [0.17620968 0.07909339 0.37128334 0.28679405]\n",
      " [0.84402637 0.77738868 0.66361547 0.71487796]\n",
      " [0.77620775 0.80942702 0.49468669 0.58649476]]\n"
     ]
    }
   ],
   "source": [
    "#result = model.predict(input_data)\n",
    "\n",
    "x = 0.23454325\n",
    "y = 0.54214774\n",
    "\n",
    "test = numpy.array([[\n",
    "        ((x-SENSORS[0][0])**2 + (y-SENSORS[0][1])**2)**0.5,\n",
    "        ((x-SENSORS[1][0])**2 + (y-SENSORS[1][1])**2)**0.5,\n",
    "        ((x-SENSORS[2][0])**2 + (y-SENSORS[2][1])**2)**0.5,\n",
    "        ((x-SENSORS[3][0])**2 + (y-SENSORS[3][1])**2)**0.5,\n",
    "    ]])\n",
    "\n",
    "print(type(input_data))\n",
    "\n",
    "result = model.predict(test)\n",
    "\n",
    "print(input_data)\n",
    "\n",
    "#for i in range(500):\n",
    "#    print(result[0][i], \"\\t\", result[1][i], \"\\t\\t\", xOutput_data[i], \"\\t\", yOutput_data[i])"
   ]
  }
 ],
 "metadata": {
  "kernelspec": {
   "display_name": "Python 3",
   "language": "python",
   "name": "python3"
  },
  "language_info": {
   "codemirror_mode": {
    "name": "ipython",
    "version": 3
   },
   "file_extension": ".py",
   "mimetype": "text/x-python",
   "name": "python",
   "nbconvert_exporter": "python",
   "pygments_lexer": "ipython3",
   "version": "3.7.2"
  }
 },
 "nbformat": 4,
 "nbformat_minor": 2
}
