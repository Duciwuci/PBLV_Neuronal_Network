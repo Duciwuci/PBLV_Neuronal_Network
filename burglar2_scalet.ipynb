{
 "cells": [
  {
   "cell_type": "code",
   "execution_count": null,
   "metadata": {},
   "outputs": [],
   "source": [
    "#imports\n",
    "import testdata.TestDataGenerator as tdg\n",
    "import tensorflow as tf\n",
    "from tensorflow import keras\n",
    "import matplotlib.pyplot as plt\n",
    "import random\n",
    "import numpy\n",
    "import ipywidgets as widgets "
   ]
  },
  {
   "cell_type": "code",
   "execution_count": null,
   "metadata": {},
   "outputs": [],
   "source": []
  },
  {
   "cell_type": "code",
   "execution_count": null,
   "metadata": {},
   "outputs": [],
   "source": [
    "#definitions\n",
    "\n",
    "DIMENSIONS=2\n",
    "SENSORS= 4\n",
    "\n",
    "COORDINATE_SYSTEM = 1\n",
    "\n",
    "INPUT_NODES = SENSORS\n",
    "HIDDEN_NODES = [64,64]\n",
    "OUTPUT_NODES = DIMENSIONS"
   ]
  },
  {
   "cell_type": "code",
   "execution_count": null,
   "metadata": {},
   "outputs": [],
   "source": [
    "#Generate Model\n",
    "def generateModel(inputNodes, hiddenNodes, outputNodes):\n",
    "    inp = keras.layers.Input((inputNodes,))\n",
    "\n",
    "    x = keras.layers.Dense(64, activation='relu')(inp)\n",
    "    x = keras.layers.Dense(64, activation='relu')(x)\n",
    "    xOut = keras.layers.Dense(1, activation='sigmoid', name='xOut')(x)\n",
    "    yOut = keras.layers.Dense(1, activation='sigmoid', name='yOut')(x)\n",
    "    model = keras.models.Model(inputs=inp, outputs=[xOut, yOut])\n",
    "\n",
    "    model.compile(optimizer='adam', loss='mean_squared_error', metrics=['accuracy'])\n",
    "    return model"
   ]
  },
  {
   "cell_type": "code",
   "execution_count": null,
   "metadata": {},
   "outputs": [],
   "source": [
    "def drawHistory(hist):\n",
    "    plt.clf()\n",
    "    plt.title('loss function')\n",
    "    plt.xlabel('epochs')\n",
    "    plt.ylabel('loss')\n",
    "    plt.plot(hist.history['loss'])\n",
    "    plt.plot(hist.history['yOut_loss'])\n",
    "    plt.plot(hist.history['xOut_loss'])\n",
    "    plt.legend(['loss', 'y-Loss', 'x-Loss'], loc='upper left')"
   ]
  },
  {
   "cell_type": "code",
   "execution_count": null,
   "metadata": {},
   "outputs": [],
   "source": [
    "def drawHistory2(hist, test):\n",
    "    test.set_title('loss function')\n",
    "    test.set_xlabel('epochs')\n",
    "    test.set_ylabel('loss')\n",
    "    test.plot(hist.history['loss'])\n",
    "    test.plot(hist.history['yOut_loss'])\n",
    "    test.plot(hist.history['xOut_loss'])\n",
    "    test.legend(['loss', 'y-Loss', 'x-Loss'], loc='upper left')"
   ]
  },
  {
   "cell_type": "code",
   "execution_count": null,
   "metadata": {},
   "outputs": [],
   "source": []
  },
  {
   "cell_type": "code",
   "execution_count": null,
   "metadata": {},
   "outputs": [],
   "source": []
  },
  {
   "cell_type": "code",
   "execution_count": null,
   "metadata": {},
   "outputs": [],
   "source": [
    "#result = model.predict(distances)\n",
    "\n",
    "#plt.ylabel('value')\n",
    "#plt.xlabel('dataset')\n",
    "#plt.title('y-prediction')\n",
    "#plt.plot(datapoints[1])   \n",
    "#plt.plot(result[1])\n",
    "#plt.legend(['testdata', 'neuronal prediction'])"
   ]
  },
  {
   "cell_type": "code",
   "execution_count": null,
   "metadata": {},
   "outputs": [],
   "source": []
  },
  {
   "cell_type": "code",
   "execution_count": null,
   "metadata": {},
   "outputs": [],
   "source": [
    "#plt.title('x-prediction')\n",
    "#plt.ylabel('value')\n",
    "#plt.xlabel('dataset')\n",
    "#plt.plot(datapoints[0])   \n",
    "#plt.plot(result[0])\n",
    "#plt.legend(['testdata', 'neuronal prediction'])"
   ]
  },
  {
   "cell_type": "code",
   "execution_count": null,
   "metadata": {},
   "outputs": [],
   "source": [
    "def printSomething():\n",
    "    plt.ylabel('value')\n",
    "    plt.xlabel('dataset')\n",
    "    plt.title('y-prediction with new generated data')\n",
    "    plt.plot([0,1,2,3,4,3,4])   "
   ]
  },
  {
   "cell_type": "code",
   "execution_count": null,
   "metadata": {},
   "outputs": [],
   "source": [
    "#test_distance, test_datapoint, test_sensor = tdg.generateStatic4PointIO(100,2,COORDINATE_SYSTEM)   \n",
    "    \n",
    "#testResult = model.predict(test_distance)\n",
    "\n",
    "#plt.ylabel('value')\n",
    "#plt.xlabel('dataset')\n",
    "#plt.title('y-prediction with new generated data')\n",
    "#plt.plot(test_datapoint[1])   \n",
    "#plt.plot(testResult[1])\n",
    "#plt.legend(['testdata', 'neuronal prediction'])"
   ]
  },
  {
   "cell_type": "code",
   "execution_count": null,
   "metadata": {},
   "outputs": [],
   "source": [
    "#plt.title('x-prediction with new generated data')\n",
    "#plt.ylabel('value')\n",
    "#plt.xlabel('dataset')\n",
    "#plt.plot(test_datapoint[0])   \n",
    "#plt.plot(testResult[0])\n",
    "#plt.legend(['testdata', 'neuronal prediction'])"
   ]
  },
  {
   "cell_type": "code",
   "execution_count": null,
   "metadata": {},
   "outputs": [],
   "source": [
    "#evaluation = model.evaluate(distances,test_datapoint)\n",
    " \n",
    "#print(evaluation[0])"
   ]
  },
  {
   "cell_type": "code",
   "execution_count": null,
   "metadata": {},
   "outputs": [],
   "source": [
    "#plt.plot(test_datapoint[0], test_datapoint[1], 'bo')\n",
    "#plt.plot(testResult[0], testResult[1], 'ro')\n",
    "#plt.legend(['testdata', 'prediction'])"
   ]
  },
  {
   "cell_type": "code",
   "execution_count": null,
   "metadata": {},
   "outputs": [],
   "source": [
    "#Controls\n",
    "dimensionField = widgets.BoundedIntText(\n",
    "    value=2,\n",
    "    min=2,\n",
    "    max=1000,\n",
    "    step=1,\n",
    "    description='Dimensions:'\n",
    ")\n",
    "\n",
    "sensorField = widgets.BoundedIntText(\n",
    "    value=4,\n",
    "    min=1,\n",
    "    max=1000,\n",
    "    step=1,\n",
    "    description='Sensor count:'\n",
    ")\n",
    "epochField = widgets.BoundedIntText(\n",
    "    value=20,\n",
    "    min=1,\n",
    "    max=10000,\n",
    "    step=1,\n",
    "    description='Epochs:'\n",
    ")\n",
    "\n",
    "sampleField = widgets.BoundedIntText(\n",
    "    value=100,\n",
    "    min=1,\n",
    "    max=10000000,\n",
    "    step=1,\n",
    "    description='Sample Size:'\n",
    ")\n",
    "hiddenField = widgets.Text(\n",
    "    value='64, 64',\n",
    "    placeholder='64, 64',\n",
    "    description='Hidden nodes:'\n",
    ")\n",
    "button = widgets.Button(description=\"Run\")\n",
    "%matplotlib notebook\n",
    "def on2DDemo(b):\n",
    "    \n",
    "    dimensions=2\n",
    "    sampleSize = sampleField.value\n",
    "    sensorCount = sensorField.value\n",
    "    epochCount = epochField.value\n",
    "    coordinate_system = 1    \n",
    "    input_nodes = SENSORS\n",
    "    hiddenNodes = list(map(lambda x: int(x.strip()), hiddenField.value.split(',')))\n",
    "    outputNodes = DIMENSIONS\n",
    "    distances, datapoints, sensors = tdg.generateIO(sampleSize, sensorCount, dimensions, COORDINATE_SYSTEM)\n",
    "    model = generateModel(sensorCount, hiddenNodes, outputNodes)\n",
    "    history = model.fit(distances,datapoints,epochs = epochCount)\n",
    "    \n",
    "    plt.figure(1)\n",
    "    drawHistory(history)\n",
    "    plt.figure(2)\n",
    "    printSomething()\n",
    "    \n",
    "\n",
    "button.on_click(on2DDemo)"
   ]
  },
  {
   "cell_type": "code",
   "execution_count": null,
   "metadata": {},
   "outputs": [],
   "source": [
    "display(sensorField)\n",
    "display(sampleField)\n",
    "display(epochField)\n",
    "display(hiddenField)\n",
    "display(button)\n",
    "\n",
    "\n",
    "plt.figure(1)\n",
    "plt.show()\n",
    "plt.figure(2)\n",
    "plt.show()\n",
    "\n",
    "\n",
    "on2DDemo(0)"
   ]
  },
  {
   "cell_type": "code",
   "execution_count": null,
   "metadata": {},
   "outputs": [],
   "source": []
  }
 ],
 "metadata": {
  "kernelspec": {
   "display_name": "Python 3",
   "language": "python",
   "name": "python3"
  },
  "language_info": {
   "codemirror_mode": {
    "name": "ipython",
    "version": 3
   },
   "file_extension": ".py",
   "mimetype": "text/x-python",
   "name": "python",
   "nbconvert_exporter": "python",
   "pygments_lexer": "ipython3"
  }
 },
 "nbformat": 4,
 "nbformat_minor": 2
}
