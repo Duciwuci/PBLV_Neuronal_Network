{
 "cells": [
  {
   "cell_type": "code",
   "execution_count": null,
   "metadata": {},
   "outputs": [],
   "source": [
    "#imports\n",
    "import testdata.TestDataGenerator as tdg\n",
    "import tensorflow as tf\n",
    "from tensorflow import keras\n",
    "import matplotlib.pyplot as plt\n",
    "import random\n",
    "import numpy"
   ]
  },
  {
   "cell_type": "code",
   "execution_count": null,
   "metadata": {},
   "outputs": [],
   "source": []
  },
  {
   "cell_type": "code",
   "execution_count": null,
   "metadata": {},
   "outputs": [],
   "source": [
    "#definitions\n",
    "\n",
    "DIMENSIONS=2\n",
    "SENSORS= 4\n",
    "COORDINATE_SYSTEM = 1\n",
    "\n"
   ]
  },
  {
   "cell_type": "code",
   "execution_count": null,
   "metadata": {},
   "outputs": [],
   "source": [
    "#Generate train data\n",
    "\n",
    "distances, datapoints, sensors = tdg.generateIO(10000,SENSORS, DIMENSIONS,COORDINATE_SYSTEM)\n",
    "\n",
    "#Generate Model\n",
    "\n",
    "inp = keras.layers.Input((SENSORS,))\n",
    "layer = keras.layers.Dense(64, activation='relu')(inp)\n",
    "layer = keras.layers.Dense(64, activation='relu')(layer)\n",
    "outp = []\n",
    "for i in range(DIMENSIONS):\n",
    "    outp.append(keras.layers.Dense(1, activation='sigmoid', name=\"dim\"+str(i))(layer)) \n",
    "model = keras.models.Model(inputs=inp, outputs=outp)\n",
    "model.compile(optimizer='adam', loss='mean_squared_error')\n",
    "\n",
    "#Train Model\n",
    "model.fit(distances,datapoints,epochs =5)\n"
   ]
  },
  {
   "cell_type": "code",
   "execution_count": null,
   "metadata": {},
   "outputs": [],
   "source": [
    "test_distance, test_datapoint, test_sensor = tdg.generateFromSensors(1000, DIMENSIONS, COORDINATE_SYSTEM, sensors)      \n",
    "result = model.evaluate(test_distance, test_datapoint)\n",
    "\n",
    "for i in range(len(result)):\n",
    "    print(model.metrics_names[i] + \": \" + str(result[i]))\n",
    "    "
   ]
  },
  {
   "cell_type": "code",
   "execution_count": null,
   "metadata": {},
   "outputs": [],
   "source": [
    "test_distance, test_datapoint, test_sensor = tdg.generateFromSensors(1, DIMENSIONS, COORDINATE_SYSTEM, sensors)      \n",
    "result = model.predict(test_distance)\n",
    "\n",
    "print(\"Ergebnis: Soll -> Prediction\")\n",
    "for i in range(DIMENSIONS):\n",
    "    print(\"dim\" + str(i) + \": \" + str(test_datapoint[i][0]) + \" -> \" + str(result[i][0][0]))\n",
    "\n",
    "\n",
    "\n",
    "x = sensors[0:SENSORS,0]\n",
    "y = sensors[0:SENSORS,1]\n",
    "    \n",
    "fig, ax = plt.subplots()\n",
    "ax.scatter(x, y)\n",
    "print(test_distance)\n",
    "\n",
    "for i in range(SENSORS):\n",
    "    mes = round(x[i],2),round(y[i],2) \n",
    "    ax.annotate(mes, (x[i], y[i]))\n",
    " #   #te = round(test_distance[0][i], 5)\n",
    "  #  bla = numpy.linalg.norm([x[i],y[i], result[0][0][0], result[1][0][0]])\n",
    "   # print(\"Prediction: \", bla)\n",
    "    #print(\"Real: \", test_distance[0][i])   \n",
    "    \n",
    "mes = round(result[0][0][0],2),round(result[1][0][0],2)\n",
    "print(mes)\n",
    "#ax.annotate(mes, (result[0][0][0], result[1][0][0]))\n",
    "\n",
    "x = result[0][0][0]\n",
    "y = result[1][0][0]\n",
    "plt.plot(x, y, 'ro')\n",
    "plt.text(x, y-0.05, mes)\n",
    "plt.annotate('Einbrecher', xy=(x,y), xytext=(x+0.2, y+0.1),\n",
    "            arrowprops=dict(facecolor='black', shrink=0.05))\n",
    "\n",
    "#for i in range(SENSORS):\n",
    " #   plt.plot(sensors[i][0], sensors[i][1], 'ro')\n",
    "  #  plt.plot([sensors[i][0], result[0][0][0]], [sensors[i][1], result[1][0][0]], 'k-')\n",
    "#for i in range(Sensors)\n",
    "#plt.plot(sensors[, 'ro')\n",
    "plt.show()  "
   ]
  },
  {
   "cell_type": "code",
   "execution_count": null,
   "metadata": {},
   "outputs": [],
   "source": [
    "test_distance, test_datapoint, test_sensor = tdg.generateFromSensors(100, DIMENSIONS, COORDINATE_SYSTEM, sensors)       \n",
    "    \n",
    "\n",
    "testResult = model.predict(test_distance)\n",
    "\n",
    "plt.figure()\n",
    "plt.ylabel('value')\n",
    "plt.xlabel('dataset')\n",
    "plt.title('y-prediction with new generated data')\n",
    "plt.plot(test_datapoint[1])   \n",
    "plt.plot(testResult[1])\n",
    "plt.legend(['testdata', 'neuronal prediction'])\n",
    "plt.show()\n",
    "\n",
    "\n",
    "plt.figure()\n",
    "plt.ylabel('value')\n",
    "plt.xlabel('dataset')\n",
    "plt.title('x-prediction with new generated data')\n",
    "plt.plot(test_datapoint[0])   \n",
    "plt.plot(testResult[0])\n",
    "plt.legend(['testdata', 'neuronal prediction'])\n",
    "plt.show()\n",
    "\n",
    "plt.figure()\n",
    "plt.title('prediction with new generated data')\n",
    "plt.scatter(test_datapoint[0], test_datapoint[1])\n",
    "plt.scatter(testResult[0], testResult[1])\n",
    "plt.legend(['testdata', 'neuronal prediction'])\n",
    "plt.show()\n",
    "\n",
    "#plt.figure()\n",
    "\n",
    "for i in range(50):\n",
    "    x1, x2 = test_datapoint[0][i], testResult[0][i]\n",
    "    y1, y2 = test_datapoint[1][i], testResult[1][i]\n",
    "    plt.plot(x1, y1, 'ro')\n",
    "    plt.plot(x2, y2, 'bo')\n",
    "    plt.plot([x1, x2], [y1,y2], '-k') \n",
    "\n",
    "    \n",
    "plt.show\n",
    "    \n"
   ]
  }
 ],
 "metadata": {
  "kernelspec": {
   "display_name": "Python 3",
   "language": "python",
   "name": "python3"
  },
  "language_info": {
   "codemirror_mode": {
    "name": "ipython",
    "version": 3
   },
   "file_extension": ".py",
   "mimetype": "text/x-python",
   "name": "python",
   "nbconvert_exporter": "python",
   "pygments_lexer": "ipython3"
  }
 },
 "nbformat": 4,
 "nbformat_minor": 2
}
