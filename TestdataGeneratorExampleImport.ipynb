{
 "cells": [
  {
   "cell_type": "markdown",
   "metadata": {},
   "source": [
    "## Documentation\n",
    "##### generateIO(dataCount, sensorCount, dimensions, coordSize): \n",
    "dataCount:  the amount of datasets that are wanted.  \n",
    "sensorCount: the amount of wanted sensors.  \n",
    "dimensions: the wanted amount of dimensions of the vectors.  \n",
    "coordSize: the desired size of the coordinate system. always starts at (0,0) and expands to (coordSize, coordSize)  \n",
    "\n",
    "Each datapoint and sensor is being set randomly inside of the coordinate system\n",
    "\n",
    "Returns 3 arrays:  \n",
    "First is the input containing the the list of distances to each sensor.  \n",
    "Second is the list of correct datapoint locations for the neuronal network.  \n",
    "Third is the list of sensor coordinates\n",
    "  \n",
    "##### generateStatic4PointIO(dataCount, dimensions, coordSize): \n",
    "dataCount:  the amount of datasets that are wanted.  \n",
    "dimensions: the wanted amount of dimensions of the vectors.  \n",
    "coordSize: the desired size of the coordinate system. always starts at (0,0) and expands to (coordSize, coordSize)  \n",
    "\n",
    "Creates a fix number of sensors (4) with each sensor in one corner of the coordinate system.\n",
    "The datapoints are being set randomly inside of the coordinate system.\n",
    "  \n",
    "Returns 3 arrays:  \n",
    "First is the input containing the the list of distances to each sensor.  \n",
    "Second is the list of correct datapoint locations for the neuronal network. \n",
    "Third is the list of sensor coordinates"
   ]
  },
  {
   "cell_type": "code",
   "execution_count": null,
   "metadata": {},
   "outputs": [],
   "source": [
    "import testdata.TestDataGenerator as tdg\n",
    "import numpy as np"
   ]
  },
  {
   "cell_type": "code",
   "execution_count": null,
   "metadata": {},
   "outputs": [],
   "source": [
    "print(tdg.generateIO(5,3,2,10))"
   ]
  },
  {
   "cell_type": "code",
   "execution_count": null,
   "metadata": {},
   "outputs": [],
   "source": [
    "print(tdg.generateStatic4PointIO(5,2,10))"
   ]
  },
  {
   "cell_type": "code",
   "execution_count": null,
   "metadata": {},
   "outputs": [],
   "source": [
    "r1, r2, r3 = tdg.generateIO(5,3,2,10)\n",
    "\n",
    "print(r1)\n",
    "print(r2)\n",
    "print(r3)"
   ]
  },
  {
   "cell_type": "code",
   "execution_count": null,
   "metadata": {},
   "outputs": [],
   "source": [
    "r1, r2, r3 = tdg.generateStatic4PointIO(5,2,10)\n",
    "\n",
    "print(r1)\n",
    "print(r2)\n",
    "print(r3) "
   ]
  }
 ],
 "metadata": {
  "kernelspec": {
   "display_name": "Python 3",
   "language": "python",
   "name": "python3"
  },
  "language_info": {
   "codemirror_mode": {
    "name": "ipython",
    "version": 3
   },
   "file_extension": ".py",
   "mimetype": "text/x-python",
   "name": "python",
   "nbconvert_exporter": "python",
   "pygments_lexer": "ipython3"
  }
 },
 "nbformat": 4,
 "nbformat_minor": 2
}
