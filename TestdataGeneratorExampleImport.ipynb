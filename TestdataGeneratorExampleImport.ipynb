{
 "cells": [
  {
   "cell_type": "markdown",
   "metadata": {},
   "source": [
    "## Documentation\n",
    "##### generateIO(dataCount, sensorCount, dimensions, coordSize): \n",
    "dataCount:  the amount of datasets that are wanted.  \n",
    "sensorCount: the amount of wanted sensors.  \n",
    "dimensions: the wanted amount of dimensions of the vectors.  \n",
    "coordSize: the desired size of the coordinate system. always starts at (0,0) and expands to (coordSize, coordSize)  \n",
    "\n",
    "Each datapoint and sensor is being set randomly inside of the coordinate system\n",
    "\n",
    "Returns 2 arrays:  \n",
    "First is the input containing the the list of distances to each sensor.  \n",
    "Second is the list of correct datapoint locations for the neuronal network. \n",
    "  \n",
    "##### generateStatic4PointIO(dataCount, dimensions, coordSize): \n",
    "dataCount:  the amount of datasets that are wanted.  \n",
    "dimensions: the wanted amount of dimensions of the vectors.  \n",
    "coordSize: the desired size of the coordinate system. always starts at (0,0) and expands to (coordSize, coordSize)  \n",
    "\n",
    "Creates a fix number of sensors (4) with each sensor in one corner of the coordinate system.\n",
    "The datapoints are being set randomly inside of the coordinate system.\n",
    "  \n",
    "Returns 2 arrays:  \n",
    "First is the input containing the the list of distances to each sensor.  \n",
    "Second is the list of correct datapoint locations for the neuronal network. \n"
   ]
  },
  {
   "cell_type": "code",
   "execution_count": 42,
   "metadata": {
    "collapsed": true
   },
   "outputs": [],
   "source": [
    "import testdata.TestDataGenerator as tdg\n",
    "import numpy as np"
   ]
  },
  {
   "cell_type": "code",
   "execution_count": 30,
   "metadata": {},
   "outputs": [
    {
     "name": "stdout",
     "output_type": "stream",
     "text": [
      "([[7.4085249560260182, 3.8814519672135019, 5.012850426462526], [6.3889560400976526, 6.4013671298917982, 5.2815338835033705], [4.0183648177631603, 6.1356975667719738, 3.9158077750875981], [0.55420129740643687, 4.8646360733121696, 2.2016496155559655], [7.5176310434062223, 2.4702781954406952, 5.2100558470765304]], array([[ 6.87228958,  6.43939269],\n",
      "       [ 3.05355229,  8.3600667 ],\n",
      "       [ 1.13389797,  6.43507965],\n",
      "       [ 1.13018095,  2.20829164],\n",
      "       [ 8.06824479,  1.35415753]]))\n"
     ]
    }
   ],
   "source": [
    "print(tdg.generateIO(5,3,2,10))"
   ]
  },
  {
   "cell_type": "code",
   "execution_count": 39,
   "metadata": {},
   "outputs": [
    {
     "name": "stdout",
     "output_type": "stream",
     "text": [
      "([[13.235816796569953, 9.4016498611466375, 9.3604507368469978, 0.90675897358382695], [9.2109008416337108, 6.0036624507508405, 8.731103893847342, 5.2378854238426422], [3.3760060410683153, 9.786979682000565, 6.7607023213496245, 11.405904189693349], [10.520691047064172, 11.663437792798257, 3.7360440370285151, 6.2696783079608469], [6.3528322244882105, 10.983621451162936, 3.8524364348275024, 9.7530881978139217]], array([[ 9.37844041,  9.33979131],\n",
      "       [ 5.43042596,  7.43983657],\n",
      "       [ 3.28451605,  0.78062227],\n",
      "       [ 9.83634575,  3.73245795],\n",
      "       [ 6.27586054,  0.98592685]]))\n"
     ]
    }
   ],
   "source": [
    "print(tdg.generateStatic4PointIO(5,2,10))"
   ]
  },
  {
   "cell_type": "code",
   "execution_count": 44,
   "metadata": {},
   "outputs": [
    {
     "name": "stdout",
     "output_type": "stream",
     "text": [
      "([[5.0217023422031355, 5.258002360521516, 10.070128768353936, 10.190023936222669], [8.5873186638137806, 7.3600393667609287, 7.1032562958922671, 5.557372369341401], [8.1842726078674026, 10.481373715201549, 3.6861642637016505, 7.5142986244106877], [11.132855761475717, 8.1780108315815276, 8.1312548156073596, 3.0094332742195165], [4.1887722206992466, 10.109036784398777, 5.9320521083020727, 10.946965525068439]], array([[ 1.19050005,  4.87854528],\n",
      "       [ 6.16428959,  5.97859312],\n",
      "       [ 7.66972556,  2.85615616],\n",
      "       [ 7.89115863,  7.85303081],\n",
      "       [ 4.11782853,  0.7676594 ]]))\n"
     ]
    }
   ],
   "source": [
    "print(tdg.generateStatic4PointIO(5,2,10))"
   ]
  }
 ],
 "metadata": {
  "kernelspec": {
   "display_name": "Python 3",
   "language": "python",
   "name": "python3"
  },
  "language_info": {
   "codemirror_mode": {
    "name": "ipython",
    "version": 3
   },
   "file_extension": ".py",
   "mimetype": "text/x-python",
   "name": "python",
   "nbconvert_exporter": "python",
   "pygments_lexer": "ipython3",
   "version": "3.6.6"
  }
 },
 "nbformat": 4,
 "nbformat_minor": 2
}
