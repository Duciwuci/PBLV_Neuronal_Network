{
 "cells": [
  {
   "cell_type": "markdown",
   "metadata": {},
   "source": [
    "## Documentation\n",
    "##### generateIO(dataCount, sensorCount, dimensions, coordSize): \n",
    "dataCount:  the amount of datasets that are wanted.  \n",
    "sensorCount: the amount of wanted sensors.  \n",
    "dimensions: the wanted amount of dimensions of the vectors.  \n",
    "coordSize: the desired size of the coordinate system. always starts at (0,0) and expands to (coordSize, coordSize)  \n",
    "\n",
    "Each datapoint and sensor is being set randomly inside of the coordinate system\n",
    "\n",
    "Returns 3 arrays:  \n",
    "First is the input containing the the list of distances to each sensor.  \n",
    "Second is the list of correct datapoint locations for the neuronal network.  \n",
    "Third is the list of sensor coordinates\n",
    "  \n",
    "##### generateStatic4PointIO(dataCount, dimensions, coordSize): \n",
    "dataCount:  the amount of datasets that are wanted.  \n",
    "dimensions: the wanted amount of dimensions of the vectors.  \n",
    "coordSize: the desired size of the coordinate system. always starts at (0,0) and expands to (coordSize, coordSize)  \n",
    "\n",
    "Creates a fix number of sensors (4) with each sensor in one corner of the coordinate system.\n",
    "The datapoints are being set randomly inside of the coordinate system.\n",
    "  \n",
    "Returns 3 arrays:  \n",
    "First is the input containing the the list of distances to each sensor.  \n",
    "Second is the list of correct datapoint locations for the neuronal network. \n",
    "Third is the list of sensor coordinates"
   ]
  },
  {
   "cell_type": "code",
   "execution_count": 1,
   "metadata": {
    "collapsed": true
   },
   "outputs": [],
   "source": [
    "import testdata.TestDataGenerator as tdg\n",
    "import numpy as np"
   ]
  },
  {
   "cell_type": "code",
   "execution_count": 2,
   "metadata": {
    "scrolled": true
   },
   "outputs": [
    {
     "name": "stdout",
     "output_type": "stream",
     "text": [
      "(array([[  6.81540154,   5.00734068,   6.87076131],\n",
      "       [  7.94886703,   3.57843385,   5.44034317],\n",
      "       [  3.04041779,   7.94388876,   9.66717898],\n",
      "       [ 10.45249136,   3.47996393,   3.79353301],\n",
      "       [ 11.80104959,   1.55807368,   1.15354299]]), array([[ 6.24085415,  3.38396735],\n",
      "       [ 6.72313083,  4.73236662],\n",
      "       [ 2.11642992,  2.49655159],\n",
      "       [ 4.49696727,  9.63557178],\n",
      "       [ 7.15990096,  9.66126759]]), array([[ 0.28607227,  0.06880958],\n",
      "       [ 7.66057143,  8.18582777],\n",
      "       [ 8.27779027,  9.94584606]]))\n"
     ]
    }
   ],
   "source": [
    "print(tdg.generateIO(5,3,2,10))"
   ]
  },
  {
   "cell_type": "code",
   "execution_count": 3,
   "metadata": {},
   "outputs": [
    {
     "name": "stdout",
     "output_type": "stream",
     "text": [
      "(array([[  4.20995394,   6.32625332,   9.23533992,  10.37252488],\n",
      "       [  5.20700198,   8.05866184,   6.60052017,   9.0219747 ],\n",
      "       [  8.19648453,   5.19166536,   9.07071256,   6.484509  ],\n",
      "       [  6.56504978,   4.84350298,   9.43430472,   8.32861021],\n",
      "       [  3.72460083,   8.88441155,   6.93419783,  10.63688003]]), array([[ 1.62161044,  3.88511155],\n",
      "       [ 4.17730016,  3.10854195],\n",
      "       [ 4.24522661,  7.01144847],\n",
      "       [ 2.70468865,  5.98201787],\n",
      "       [ 3.28947759,  1.74699414]]), [[0.0, 0.0], [0.0, 10], [10, 0.0], [10, 10]])\n"
     ]
    }
   ],
   "source": [
    "print(tdg.generateStatic4PointIO(5,2,10))"
   ]
  },
  {
   "cell_type": "code",
   "execution_count": 5,
   "metadata": {},
   "outputs": [
    {
     "name": "stdout",
     "output_type": "stream",
     "text": [
      "[[  5.7835632    2.13539911   3.60911928]\n",
      " [  1.13225635   5.69959649   4.53246552]\n",
      " [ 10.00346508   7.2158102    8.81753983]\n",
      " [  1.78551607   7.33090664   5.8440555 ]\n",
      " [  6.38526993   4.460077     5.5816441 ]]\n",
      "[[ 2.88176325  3.79882584]\n",
      " [ 8.04158849  1.94211372]\n",
      " [ 1.98920619  8.9387519 ]\n",
      " [ 9.62806703  0.88803732]\n",
      " [ 3.95457066  5.89161593]]\n",
      "[[ 7.84358414  0.82730489]\n",
      " [ 2.34587499  1.73176195]\n",
      " [ 3.81249203  0.31178039]]\n"
     ]
    }
   ],
   "source": [
    "r1, r2, r3 = tdg.generateIO(5,3,2,10)\n",
    "\n",
    "print(r1)\n",
    "print(r2)\n",
    "print(r3)"
   ]
  },
  {
   "cell_type": "code",
   "execution_count": 7,
   "metadata": {},
   "outputs": [
    {
     "name": "stdout",
     "output_type": "stream",
     "text": [
      "[[  6.88365198   5.74620621   8.41073466   7.50830731]\n",
      " [  9.34857662  11.89422674   2.48028765   7.7607069 ]\n",
      " [ 10.44821605   3.71528075  11.61914359   6.29623619]\n",
      " [  8.02224256   7.37497045   6.89370816   6.12837872]\n",
      " [  9.77976911   7.62289676   7.52129311   4.36285701]]\n",
      "[[ 3.83221036  5.71828894]\n",
      " [ 9.0622029   2.29616276]\n",
      " [ 3.70803604  9.76809538]\n",
      " [ 5.84165817  5.49830933]\n",
      " [ 6.95370169  6.87676644]]\n",
      "[[0.0, 0.0], [0.0, 10], [10, 0.0], [10, 10]]\n"
     ]
    }
   ],
   "source": [
    "r1, r2, r3 = tdg.generateStatic4PointIO(5,2,10)\n",
    "\n",
    "print(r1)\n",
    "print(r2)\n",
    "print(r3)"
   ]
  }
 ],
 "metadata": {
  "kernelspec": {
   "display_name": "Python 3",
   "language": "python",
   "name": "python3"
  },
  "language_info": {
   "codemirror_mode": {
    "name": "ipython",
    "version": 3
   },
   "file_extension": ".py",
   "mimetype": "text/x-python",
   "name": "python",
   "nbconvert_exporter": "python",
   "pygments_lexer": "ipython3",
   "version": "3.6.6"
  }
 },
 "nbformat": 4,
 "nbformat_minor": 2
}
