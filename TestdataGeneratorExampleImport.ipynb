{
 "cells": [
  {
   "cell_type": "markdown",
   "metadata": {},
   "source": [
    "## Documentation\n",
    "##### generateIO(dataCount, sensorCount, dimensions, coordSize): \n",
    "dataCount:  the amount of datasets that are wanted.  \n",
    "sensorCount: the amount of wanted sensors.\n",
    "dimensions: the wanted amount of dimensions of the vectors.\n",
    "coordSize: the desired size of the coordinate system. always starts at (0,0) and expands to (coordSize, coordSize)  \n",
    "\n",
    "Each datapoint and sensor is being set randomly inside of the coordinate system\n",
    "\n",
    "Returns 2 arrays:  \n",
    "First is the input containing the the list of distances to each sensor.  \n",
    "Second is the list of correct datapoint locations for the neuronal network. \n",
    "  \n",
    "##### generateStatic4PointIO(dataCount, dimensions, coordSize): \n",
    "dataCount:  the amount of datasets that are wanted.  \n",
    "dimensions: the wanted amount of dimensions of the vectors.\n",
    "coordSize: the desired size of the coordinate system. always starts at (0,0) and expands to (coordSize, coordSize)  \n",
    "\n",
    "Creates a fix number of sensors (4) with each sensor in one corner of the coordinate system.\n",
    "The datapoints are being set randomly inside of the coordinate system.\n",
    "  \n",
    "Returns 2 arrays:  \n",
    "First is the input containing the the list of distances to each sensor.  \n",
    "Second is the list of correct datapoint locations for the neuronal network. \n"
   ]
  },
  {
   "cell_type": "code",
   "execution_count": 24,
   "metadata": {
    "collapsed": true
   },
   "outputs": [],
   "source": [
    "import testdata.TestDataGenerator as tdg\n"
   ]
  },
  {
   "cell_type": "code",
   "execution_count": 30,
   "metadata": {},
   "outputs": [
    {
     "name": "stdout",
     "output_type": "stream",
     "text": [
      "([[7.4085249560260182, 3.8814519672135019, 5.012850426462526], [6.3889560400976526, 6.4013671298917982, 5.2815338835033705], [4.0183648177631603, 6.1356975667719738, 3.9158077750875981], [0.55420129740643687, 4.8646360733121696, 2.2016496155559655], [7.5176310434062223, 2.4702781954406952, 5.2100558470765304]], array([[ 6.87228958,  6.43939269],\n",
      "       [ 3.05355229,  8.3600667 ],\n",
      "       [ 1.13389797,  6.43507965],\n",
      "       [ 1.13018095,  2.20829164],\n",
      "       [ 8.06824479,  1.35415753]]))\n"
     ]
    }
   ],
   "source": [
    "print(tdg.generateIO(5,3,2,10))"
   ]
  },
  {
   "cell_type": "code",
   "execution_count": 38,
   "metadata": {},
   "outputs": [
    {
     "name": "stdout",
     "output_type": "stream",
     "text": [
      "([[13.98766406628804, 9.8714335055018498, 9.9113165006466151, 0.15699744650379549], [12.664051905151258, 9.0908931579918306, 8.9402962293211026, 1.4815614808946016], [4.1231248839910029, 7.8906948304613778, 7.4380292827651768, 10.029316313176903], [4.318386061645044, 6.5388865216904817, 8.7988017530893572, 10.07608510565009], [3.9605604811759454, 6.5007823987472175, 9.2719875116889092, 10.60867026953539]], array([[ 9.87102756,  9.91047733],\n",
      "       [ 9.0224657 ,  8.88669361],\n",
      "       [ 3.08379396,  2.7368547 ],\n",
      "       [ 2.06147729,  3.79457106],\n",
      "       [ 1.48581435,  3.67129338]]))\n"
     ]
    }
   ],
   "source": [
    "print(tdg.generateStatic4PointIO(5,2,10))"
   ]
  }
 ],
 "metadata": {
  "kernelspec": {
   "display_name": "Python 3",
   "language": "python",
   "name": "python3"
  },
  "language_info": {
   "codemirror_mode": {
    "name": "ipython",
    "version": 3
   },
   "file_extension": ".py",
   "mimetype": "text/x-python",
   "name": "python",
   "nbconvert_exporter": "python",
   "pygments_lexer": "ipython3",
   "version": "3.6.6"
  }
 },
 "nbformat": 4,
 "nbformat_minor": 2
}
