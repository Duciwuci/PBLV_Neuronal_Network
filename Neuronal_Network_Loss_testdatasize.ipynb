{
 "cells": [
  {
   "cell_type": "code",
   "execution_count": null,
   "metadata": {},
   "outputs": [],
   "source": [
    "#imports\n",
    "import testdata.TestDataGenerator as tdg\n",
    "import tensorflow as tf\n",
    "from tensorflow import keras\n",
    "import matplotlib.pyplot as plt\n",
    "import random\n",
    "import numpy"
   ]
  },
  {
   "cell_type": "code",
   "execution_count": null,
   "metadata": {},
   "outputs": [],
   "source": [
    "#definitions\n",
    "\n",
    "SENSORS= 5\n",
    "\n",
    "DIMENSIONS_ONE=6\n",
    "SENSORS_ONE=5\n",
    "DIMENSIONS_TWO=6\n",
    "SENSORS_TWO=5\n",
    "DIMENSIONS_THREE=6\n",
    "SENSORS_THREE=5\n",
    "DIMENSIONS_FOUR=6\n",
    "SENSORS_FOUR=5\n",
    "DIMENSIONS_FIVE=6\n",
    "SENSORS_FIVE=5\n",
    "\n",
    "COORDINATE_SYSTEM = 1\n",
    "EPOCHS = 5\n",
    "TESTADATA_SIZE = 100000\n"
   ]
  },
  {
   "cell_type": "code",
   "execution_count": null,
   "metadata": {},
   "outputs": [],
   "source": [
    "#Generate train data\n",
    "\n",
    "distances, datapoints, sensors = tdg.generateIO(100,SENSORS_ONE, DIMENSIONS_ONE,COORDINATE_SYSTEM)\n",
    "\n",
    "#Generate Model\n",
    "\n",
    "inp = keras.layers.Input((SENSORS_ONE,))\n",
    "layer = keras.layers.Dense(64, activation='relu')(inp)\n",
    "layer = keras.layers.Dense(64, activation='relu')(layer)\n",
    "outp = []\n",
    "for i in range(DIMENSIONS_ONE):\n",
    "    outp.append(keras.layers.Dense(1, activation='sigmoid', name=\"dim\"+str(i))(layer)) \n",
    "model = keras.models.Model(inputs=inp, outputs=outp)\n",
    "model.compile(optimizer='adam', loss='mean_squared_error')\n",
    "\n",
    "#Train Model\n",
    "hist1 = model.fit(distances,datapoints,epochs =EPOCHS)\n",
    "\n"
   ]
  },
  {
   "cell_type": "code",
   "execution_count": null,
   "metadata": {},
   "outputs": [],
   "source": [
    "#Generate train data\n",
    "\n",
    "distances, datapoints, sensors = tdg.generateIO(1000,SENSORS_TWO, DIMENSIONS_TWO,COORDINATE_SYSTEM)\n",
    "\n",
    "#Generate Model\n",
    "\n",
    "inp = keras.layers.Input((SENSORS_TWO,))\n",
    "layer = keras.layers.Dense(64, activation='relu')(inp)\n",
    "layer = keras.layers.Dense(64, activation='relu')(layer)\n",
    "outp = []\n",
    "for i in range(DIMENSIONS_TWO):\n",
    "    outp.append(keras.layers.Dense(1, activation='sigmoid', name=\"dim\"+str(i))(layer)) \n",
    "model = keras.models.Model(inputs=inp, outputs=outp)\n",
    "model.compile(optimizer='adam', loss='mean_squared_error')\n",
    "\n",
    "#Train Model\n",
    "hist2 = model.fit(distances,datapoints,epochs =EPOCHS)"
   ]
  },
  {
   "cell_type": "code",
   "execution_count": null,
   "metadata": {},
   "outputs": [],
   "source": [
    "#Generate train data\n",
    "\n",
    "distances, datapoints, sensors = tdg.generateIO(10000,SENSORS_THREE, DIMENSIONS_THREE,COORDINATE_SYSTEM)\n",
    "\n",
    "#Generate Model\n",
    "\n",
    "inp = keras.layers.Input((SENSORS_THREE,))\n",
    "layer = keras.layers.Dense(64, activation='relu')(inp)\n",
    "layer = keras.layers.Dense(64, activation='relu')(layer)\n",
    "outp = []\n",
    "for i in range(DIMENSIONS_THREE):\n",
    "    outp.append(keras.layers.Dense(1, activation='sigmoid', name=\"dim\"+str(i))(layer)) \n",
    "model = keras.models.Model(inputs=inp, outputs=outp)\n",
    "model.compile(optimizer='adam', loss='mean_squared_error')\n",
    "\n",
    "#Train Model\n",
    "hist3 = model.fit(distances,datapoints,epochs =EPOCHS)"
   ]
  },
  {
   "cell_type": "code",
   "execution_count": null,
   "metadata": {},
   "outputs": [],
   "source": [
    "#Generate train data\n",
    "\n",
    "distances, datapoints, sensors = tdg.generateIO(100000,SENSORS_FOUR, DIMENSIONS_FOUR,COORDINATE_SYSTEM)\n",
    "\n",
    "#Generate Model\n",
    "\n",
    "inp = keras.layers.Input((SENSORS_FOUR,))\n",
    "layer = keras.layers.Dense(64, activation='relu')(inp)\n",
    "layer = keras.layers.Dense(64, activation='relu')(layer)\n",
    "outp = []\n",
    "for i in range(DIMENSIONS_FOUR):\n",
    "    outp.append(keras.layers.Dense(1, activation='sigmoid', name=\"dim\"+str(i))(layer)) \n",
    "model = keras.models.Model(inputs=inp, outputs=outp)\n",
    "model.compile(optimizer='adam', loss='mean_squared_error')\n",
    "\n",
    "#Train Model\n",
    "hist4 = model.fit(distances,datapoints,epochs = EPOCHS)"
   ]
  },
  {
   "cell_type": "code",
   "execution_count": null,
   "metadata": {},
   "outputs": [],
   "source": [
    "#Generate train data\n",
    "\n",
    "distances, datapoints, sensors = tdg.generateIO(1000000,SENSORS_FIVE, DIMENSIONS_FIVE,COORDINATE_SYSTEM)\n",
    "\n",
    "#Generate Model\n",
    "\n",
    "inp = keras.layers.Input((SENSORS_FIVE,))\n",
    "layer = keras.layers.Dense(64, activation='relu')(inp)\n",
    "layer = keras.layers.Dense(64, activation='relu')(layer)\n",
    "outp = []\n",
    "for i in range(DIMENSIONS_FIVE):\n",
    "    outp.append(keras.layers.Dense(1, activation='sigmoid', name=\"dim\"+str(i))(layer)) \n",
    "model = keras.models.Model(inputs=inp, outputs=outp)\n",
    "model.compile(optimizer='adam', loss='mean_squared_error')\n",
    "\n",
    "#Train Model\n",
    "hist5 = model.fit(distances,datapoints,epochs = EPOCHS)"
   ]
  },
  {
   "cell_type": "code",
   "execution_count": null,
   "metadata": {},
   "outputs": [],
   "source": [
    "plt.figure()\n",
    "plt.title('loss function (sensor = 5, dimension = 6)')\n",
    "plt.xlabel('epochs')\n",
    "plt.ylabel('loss')\n",
    "plt.plot(hist1.history['loss'])\n",
    "plt.plot(hist2.history['loss'])\n",
    "plt.plot(hist3.history['loss'])\n",
    "plt.plot(hist4.history['loss'])\n",
    "plt.plot(hist5.history['loss'])\n",
    "plt.legend(['traindata 100', 'traindata 1k', 'traindata 10k', 'traindata 100k', 'traindata 1M'], loc='upper left')\n",
    "plt.show()"
   ]
  },
  {
   "cell_type": "code",
   "execution_count": null,
   "metadata": {},
   "outputs": [],
   "source": [
    "test_distance, test_datapoint, test_sensor = tdg.generateFromSensors(1000, DIMENSIONS, COORDINATE_SYSTEM, sensors)      \n",
    "result = model.evaluate(test_distance, test_datapoint)\n",
    "\n",
    "for i in range(len(result)):\n",
    "    print(model.metrics_names[i] + \": \" + str(result[i]))\n",
    "    "
   ]
  },
  {
   "cell_type": "code",
   "execution_count": null,
   "metadata": {},
   "outputs": [],
   "source": [
    "test_distance, test_datapoint, test_sensor = tdg.generateFromSensors(100, DIMENSIONS, COORDINATE_SYSTEM, sensors)       \n",
    "    \n",
    "\n",
    "testResult = model.predict(test_distance)\n",
    "\n",
    "plt.figure()\n",
    "plt.ylabel('value')\n",
    "plt.xlabel('dataset')\n",
    "plt.title('y-prediction with new generated data')\n",
    "plt.plot(test_datapoint[1], 'ro')   \n",
    "plt.plot(testResult[1], 'bo')\n",
    "plt.legend(['testdata', 'neuronal prediction'])\n",
    "plt.show()\n",
    "\n",
    "\n",
    "plt.figure()\n",
    "plt.ylabel('value')\n",
    "plt.xlabel('dataset')\n",
    "plt.title('x-prediction with new generated data')\n",
    "plt.plot(test_datapoint[0])   \n",
    "plt.plot(testResult[0])\n",
    "plt.legend(['testdata', 'neuronal prediction'])\n",
    "plt.show()\n",
    "\n",
    "plt.figure()\n",
    "plt.title('prediction with new generated data')\n",
    "plt.ylabel('y')\n",
    "plt.xlabel('x')\n",
    "plt.scatter(test_datapoint[0], test_datapoint[1])\n",
    "plt.scatter(testResult[0], testResult[1])\n",
    "plt.legend(['testdata', 'neuronal prediction'])\n",
    "plt.show()\n"
   ]
  }
 ],
 "metadata": {
  "kernelspec": {
   "display_name": "Python 3",
   "language": "python",
   "name": "python3"
  },
  "language_info": {
   "codemirror_mode": {
    "name": "ipython",
    "version": 3
   },
   "file_extension": ".py",
   "mimetype": "text/x-python",
   "name": "python",
   "nbconvert_exporter": "python",
   "pygments_lexer": "ipython3"
  }
 },
 "nbformat": 4,
 "nbformat_minor": 2
}
